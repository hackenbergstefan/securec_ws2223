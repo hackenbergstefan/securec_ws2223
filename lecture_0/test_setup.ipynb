{
 "cells": [
  {
   "cell_type": "markdown",
   "metadata": {},
   "source": [
    "# Test ChipWhisperer Setup"
   ]
  },
  {
   "cell_type": "markdown",
   "metadata": {},
   "source": [
    "### 1. \"Prelude\"\n",
    "\n",
    "With `autoreload` any Python code outside the Notebook can be changed without the need of restarting the Kernel.\n",
    "\n",
    "We will use this in every Notebook."
   ]
  },
  {
   "cell_type": "code",
   "execution_count": null,
   "metadata": {},
   "outputs": [],
   "source": [
    "%load_ext autoreload\n",
    "%autoreload 2"
   ]
  },
  {
   "cell_type": "markdown",
   "metadata": {},
   "source": [
    "### 2. Import ChipWhisperer\n",
    "\n",
    "The line below includes the ChipWhisperer software part. In future Notebooks this will not be needed as it is already included by `securec`. Here we explicitly include to check if it is working."
   ]
  },
  {
   "cell_type": "code",
   "execution_count": null,
   "metadata": {},
   "outputs": [],
   "source": [
    "import chipwhisperer"
   ]
  },
  {
   "cell_type": "markdown",
   "metadata": {},
   "source": [
    "### 3. Import securec\n",
    "\n",
    "`securec` is the package which is located inside this repository. It contains all code to record traces and postprocessing them."
   ]
  },
  {
   "cell_type": "code",
   "execution_count": null,
   "metadata": {},
   "outputs": [],
   "source": [
    "import securec"
   ]
  },
  {
   "cell_type": "markdown",
   "metadata": {},
   "source": [
    "### 4. Import capturing for ChipWhisperer"
   ]
  },
  {
   "cell_type": "code",
   "execution_count": null,
   "metadata": {},
   "outputs": [],
   "source": [
    "from securec.capture.cw.cw_capture_generic import capture"
   ]
  },
  {
   "cell_type": "markdown",
   "metadata": {},
   "source": [
    "### 5. Capture a trace\n",
    "\n",
    "The following lines capture 1 trace containing 10 `nop` instructions.\n",
    "\n",
    "The purpose of `inputfunction` will become clear in the next Notebooks.\n",
    "\n",
    "Press thumbs that it works ;-)"
   ]
  },
  {
   "cell_type": "code",
   "execution_count": null,
   "metadata": {},
   "outputs": [],
   "source": [
    "data = capture(\n",
    "    platform=\"cwlitexmega\",\n",
    "    number_of_traces=1,\n",
    "    number_of_samples=100,\n",
    "    code=10 * 'asm(\"nop\");',\n",
    "    inputfunction=lambda: [],\n",
    ")"
   ]
  },
  {
   "cell_type": "markdown",
   "metadata": {},
   "source": [
    "### 6. Import plotly and draw the trace\n",
    "\n",
    "[Plotly](https://plotly.com/) is a cool graphic library in Javascript with Python bindings.\n",
    "\n",
    "Help can be found here: https://plotly.com/python/graph-objects/"
   ]
  },
  {
   "cell_type": "code",
   "execution_count": null,
   "metadata": {},
   "outputs": [],
   "source": [
    "import plotly.graph_objects as pgo"
   ]
  },
  {
   "cell_type": "code",
   "execution_count": null,
   "metadata": {},
   "outputs": [],
   "source": [
    "fig = pgo.Figure()\n",
    "fig.add_trace(pgo.Scatter(y=data[\"trace\"][0]))\n",
    "fig.show()"
   ]
  }
 ],
 "metadata": {
  "kernelspec": {
   "display_name": "Python 3.10.2 ('.env')",
   "language": "python",
   "name": "python3"
  },
  "language_info": {
   "codemirror_mode": {
    "name": "ipython",
    "version": 3
   },
   "file_extension": ".py",
   "mimetype": "text/x-python",
   "name": "python",
   "nbconvert_exporter": "python",
   "pygments_lexer": "ipython3",
   "version": "3.10.6"
  },
  "vscode": {
   "interpreter": {
    "hash": "750668a056c86b6c0dcc938e825c9fa1ebd7e279387822b9cb0c65763d515e7b"
   }
  }
 },
 "nbformat": 4,
 "nbformat_minor": 2
}
