{
 "cells": [
  {
   "cell_type": "markdown",
   "metadata": {},
   "source": [
    "# Lecture 3: Password Attack with Differential-Power-Analysis (Kocher et al. 1999)"
   ]
  },
  {
   "cell_type": "code",
   "execution_count": null,
   "metadata": {},
   "outputs": [],
   "source": [
    "%load_ext autoreload\n",
    "%autoreload 2\n",
    "\n",
    "import os\n",
    "import random\n",
    "\n",
    "import numpy as np\n",
    "import plotly.graph_objects as pgo\n",
    "\n",
    "from securec.capture import capture"
   ]
  },
  {
   "cell_type": "code",
   "execution_count": null,
   "metadata": {},
   "outputs": [],
   "source": [
    "data = capture(\n",
    "    platform=\"elmo\",\n",
    "    number_of_traces=1000,\n",
    "    number_of_samples=0,\n",
    "    fromfile=os.path.abspath(\"sbox_lookup.c\"),\n",
    "    inputfunction=lambda _: [random.randint(0, 255) for _ in range(16)],\n",
    ")"
   ]
  },
  {
   "cell_type": "code",
   "execution_count": null,
   "metadata": {},
   "outputs": [],
   "source": [
    "fig = pgo.Figure()\n",
    "for d in data:\n",
    "    fig.add_trace(pgo.Scatter(y=d[\"trace\"]))\n",
    "fig.show()"
   ]
  },
  {
   "cell_type": "code",
   "execution_count": null,
   "metadata": {},
   "outputs": [],
   "source": [
    "from lascar.tools.aes import sbox\n",
    "\n",
    "def split(arr, condition):\n",
    "    return arr[np.array(condition)], arr[~np.array(condition)]"
   ]
  },
  {
   "cell_type": "code",
   "execution_count": null,
   "metadata": {},
   "outputs": [],
   "source": [
    "d1, d2 = split(data, [sbox[d[\"input\"][0] ^ 0x00] & 0x01 == 0 for d in data])\n",
    "\n",
    "fig = pgo.Figure()\n",
    "for d in data:\n",
    "    fig.add_trace(\n",
    "        pgo.Scatter(\n",
    "            y=np.abs(np.mean(d1[\"trace\"], axis=0) - np.mean(d2[\"trace\"], axis=0))\n",
    "        )\n",
    "    )\n",
    "fig.show()"
   ]
  },
  {
   "cell_type": "code",
   "execution_count": null,
   "metadata": {},
   "outputs": [],
   "source": [
    "def aes_sbox_dpa(\n",
    "    data,\n",
    "    key_byte_index=0,\n",
    "    selection_bit_index=0,\n",
    "):\n",
    "    diffs = []\n",
    "    for guess in range(256):\n",
    "        d1, d2 = split(\n",
    "            data,\n",
    "            [\n",
    "                sbox[d[\"input\"][key_byte_index] ^ guess] & (1 << selection_bit_index) == 0\n",
    "                for d in data\n",
    "            ],\n",
    "        )\n",
    "        diffs.append(\n",
    "            (\n",
    "                np.max(\n",
    "                    np.abs(np.mean(d1[\"trace\"], axis=0) - np.mean(d2[\"trace\"], axis=0))\n",
    "                ),\n",
    "                guess,\n",
    "            )\n",
    "        )\n",
    "    return sorted(diffs, reverse=True)\n"
   ]
  },
  {
   "cell_type": "code",
   "execution_count": null,
   "metadata": {},
   "outputs": [],
   "source": [
    "aes_sbox_dpa(data, key_byte_index=1)"
   ]
  }
 ],
 "metadata": {
  "kernelspec": {
   "display_name": "Python 3.10.7 ('chipwhisperer-td5n7f84')",
   "language": "python",
   "name": "python3"
  },
  "language_info": {
   "codemirror_mode": {
    "name": "ipython",
    "version": 3
   },
   "file_extension": ".py",
   "mimetype": "text/x-python",
   "name": "python",
   "nbconvert_exporter": "python",
   "pygments_lexer": "ipython3",
   "version": "3.10.8"
  },
  "vscode": {
   "interpreter": {
    "hash": "36760b1de54f02795c2144c8e36ca6fc5439200debad8ef46d119beb88a8f8a2"
   }
  }
 },
 "nbformat": 4,
 "nbformat_minor": 2
}
