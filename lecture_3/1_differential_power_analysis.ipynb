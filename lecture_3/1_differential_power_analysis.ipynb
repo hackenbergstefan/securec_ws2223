{
 "cells": [
  {
   "cell_type": "markdown",
   "metadata": {},
   "source": [
    "# Lecture 3: Password Attack with Differential-Power-Analysis (Kocher et al. 1999)\n",
    "\n",
    "\n",
    "#### Learning goals\n",
    "- Recap how AES works\n",
    "- Learn how to perform a _Differential-Power-Analysis_ by Kocher et al. 1999\n",
    "- Learn how to partition traces\n",
    "\n",
    "#### References\n",
    "- https://paulkocher.com/doc/DifferentialPowerAnalysis.pdf\n",
    "- https://link.springer.com/article/10.1007/s13389-011-0006-y"
   ]
  },
  {
   "cell_type": "markdown",
   "metadata": {},
   "source": [
    "In this example we want to attack an AES encryption using the _Differential-Power-Analysis_ introduces by Kocher et al. 1999.\n",
    "\n",
    "The Differential-Power-Analysis has few prerequisites or in other words: It can be applied if the following conditions hold true:\n",
    "- The device holds a **secret** (e.g. a key)\n",
    "- The **secret is constant** during all measurements\n",
    "- External **varying input** can be fed into the device\n",
    "- The secret \"**collides**\" with external input\n",
    "\n",
    "Notes:\n",
    "- \"Collide\" means: The input and the secret are processed together in an algorithm\n",
    "- Varying input: It is not required that the input can be determined by the attacker. It is sufficient that the attacker knows the input and the input is sufficiently random.\n",
    "- If the input is unknown but varying the attack also works if the output is known by the attacker."
   ]
  },
  {
   "cell_type": "markdown",
   "metadata": {},
   "source": [
    "## 1. Understand AES and capture traces from a Sbox Lookup"
   ]
  },
  {
   "cell_type": "markdown",
   "metadata": {},
   "source": [
    "<div style=\"border: 3px solid plum; border-radius: 5px; padding: 5px; width: calc(100% - 20px);\">\n",
    "<div class=\"h2\" style=\"font-variant: all-small-caps;\">Exercise 1</div>\n",
    "\n",
    "- Recap the steps of an AES encryption (e.g. https://de.wikipedia.org/wiki/Advanced_Encryption_Standard)\n",
    "- Why is _SubBytes_ a \"good\" place to mount an attack?\n",
    "\n",
    "</div>"
   ]
  },
  {
   "cell_type": "code",
   "execution_count": null,
   "metadata": {},
   "outputs": [],
   "source": [
    "%load_ext autoreload\n",
    "%autoreload 2\n",
    "\n",
    "import os\n",
    "import random\n",
    "\n",
    "import numpy as np\n",
    "import plotly.graph_objects as pgo\n",
    "\n",
    "from securec.capture import capture"
   ]
  },
  {
   "cell_type": "markdown",
   "metadata": {},
   "source": [
    "<div style=\"border: 3px solid plum; border-radius: 5px; padding: 5px; width: calc(100% - 20px);\">\n",
    "<div class=\"h2\" style=\"font-variant: all-small-caps;\">Exercise 2</div>\n",
    "\n",
    "The file [./sbox_lookup.c](./sbox_lookup.c) contains the essentials of an AES SBox lookup, i.e. the step SubBytes in an AES encryption.\n",
    "\n",
    "1. Record one trace using `inputfunction=lambda _: 16 * [0]`.\n",
    "2. Plot the trace. What can you see? Any repeating patterns?\n",
    "3. Open the corresponding assembly listing file [_generic_simpleserial-CWLITEXMEGA.lss](../securec/capture/cw/_generic_simpleserial-CWLITEXMEGA.lss) and understand the instructions in the function `run`.\n",
    "\n",
    "</div>"
   ]
  },
  {
   "cell_type": "markdown",
   "metadata": {},
   "source": [
    "## 2. Develop an attack"
   ]
  },
  {
   "cell_type": "markdown",
   "metadata": {},
   "source": [
    "The term _Differential_ in Differential-Power-Analysis is not chosen by accident.\n",
    "We will use differences to develop an attack that reveals the secret key."
   ]
  },
  {
   "cell_type": "markdown",
   "metadata": {},
   "source": [
    "<div style=\"border: 3px solid plum; border-radius: 5px; padding: 5px; width: calc(100% - 20px);\">\n",
    "<div class=\"h2\" style=\"font-variant: all-small-caps;\">Exercise 3</div>\n",
    "\n",
    "- Capture 1000 traces using random input in the first byte, i.e. `inputfunction=lambda _: [random.randint(0, 255)] + 15 * [0]`\n",
    "- Plot all 1000 traces. You should notice that the _first_ lookup has more differences than all other lookups.\n",
    "\n",
    "</div>"
   ]
  },
  {
   "cell_type": "markdown",
   "metadata": {},
   "source": [
    "#### Basic principle of a Differential-Power-Analysis\n",
    "\n",
    "1. Divide the set of traces (with random input) into **two partitions** using a **guess**.\n",
    "2. Calculate the average of each partition.\n",
    "3. Calculate the **absolute difference** of the two averages.\n",
    "4. The maximal difference corresponds to the correct guess.\n",
    "\n",
    "But what does \"partition using a guess\" mean?"
   ]
  },
  {
   "cell_type": "markdown",
   "metadata": {},
   "source": [
    "<div style=\"border: 3px solid plum; border-radius: 5px; padding: 5px; width: calc(100% - 20px);\">\n",
    "<div class=\"h2\" style=\"font-variant: all-small-caps;\">Exercise 4</div>\n",
    "\n",
    "Use the traces from Exercise 3 and divide them into two partitions using the following selection function:\n",
    "\n",
    "\"Guessing the first key byte to `0x00`, select all traces where the LSB of the output of the first SBox lookup is `0`.\"\n",
    "\n",
    "The other partition is defined by the rest.\n",
    "\n",
    "Hints:\n",
    "- Python provides nice so called list comprehension features: `[item for item in list if condition]` selects all items from `list` where `condition` holds true\n",
    "- The AES SBox can be imported with: `from lascar.tools.aes import sbox`\n",
    "- The LSB can be \"calculated\" using `& 0x01`\n",
    "\n",
    "</div>"
   ]
  },
  {
   "cell_type": "markdown",
   "metadata": {},
   "source": [
    "<div style=\"border: 3px solid plum; border-radius: 5px; padding: 5px; width: calc(100% - 20px);\">\n",
    "<div class=\"h2\" style=\"font-variant: all-small-caps;\">Exercise 5</div>\n",
    "\n",
    "1. Calculate the absolute difference between the mean value (pointwise for each sample) of each partition\n",
    "2. Plot this difference\n",
    "\n",
    "Hints:\n",
    "- Mean: `np.mean` (https://numpy.org/doc/stable/reference/generated/numpy.mean.html)\n",
    "- Mean of 2 dimensional array along the first axis: `np.mean(data, axis=0)`\n",
    "- Abs: `np.abs` (https://numpy.org/doc/stable/reference/generated/numpy.absolute.html)\n",
    "\n",
    "</div>"
   ]
  },
  {
   "cell_type": "markdown",
   "metadata": {},
   "source": [
    "<div style=\"border: 3px solid plum; border-radius: 5px; padding: 5px; width: calc(100% - 20px);\">\n",
    "<div class=\"h2\" style=\"font-variant: all-small-caps;\">Exercise 6</div>\n",
    "\n",
    "Repeat Exercise 4 and 5 but with key guess `0x01`. Can you see any difference?\n",
    "\n",
    "</div>"
   ]
  },
  {
   "cell_type": "markdown",
   "metadata": {},
   "source": [
    "<div style=\"border: 3px solid plum; border-radius: 5px; padding: 5px; width: calc(100% - 20px);\">\n",
    "<div class=\"h2\" style=\"font-variant: all-small-caps;\">Exercise 7</div>\n",
    "\n",
    "Implement an automated attack using Differential-Power-Analysis, i.e. implement a function with the following signature:\n",
    "\n",
    "```python\n",
    "def aes_sbox_dpa(\n",
    "    traces,\n",
    "    key_byte_index=0,\n",
    "):\n",
    "```\n",
    "\n",
    "Hints:\n",
    "- Use the LSB of the SBox output\n",
    "\n",
    "Optional task:\n",
    "- Introduce an additional input parameter, `selection_bit_index`, where the bit, which is selected for partitioning, can be varied.\n",
    "\n",
    "</div>"
   ]
  },
  {
   "cell_type": "markdown",
   "metadata": {},
   "source": [
    "<div style=\"border: 3px solid plum; border-radius: 5px; padding: 5px; width: calc(100% - 20px);\">\n",
    "<div class=\"h2\" style=\"font-variant: all-small-caps;\">Exercise 8</div>\n",
    "\n",
    "Change the key in [./sbox_lookup.c](./sbox_lookup.c), compile, and flash. Exchange with another student and challenge your attack function.\n",
    "\n",
    "</div>"
   ]
  }
 ],
 "metadata": {
  "kernelspec": {
   "display_name": "Python 3.10.7 ('chipwhisperer-td5n7f84')",
   "language": "python",
   "name": "python3"
  },
  "language_info": {
   "codemirror_mode": {
    "name": "ipython",
    "version": 3
   },
   "file_extension": ".py",
   "mimetype": "text/x-python",
   "name": "python",
   "nbconvert_exporter": "python",
   "pygments_lexer": "ipython3",
   "version": "3.10.8"
  },
  "vscode": {
   "interpreter": {
    "hash": "36760b1de54f02795c2144c8e36ca6fc5439200debad8ef46d119beb88a8f8a2"
   }
  }
 },
 "nbformat": 4,
 "nbformat_minor": 2
}
