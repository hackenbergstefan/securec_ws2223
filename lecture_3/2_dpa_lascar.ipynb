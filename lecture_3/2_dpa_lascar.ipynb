{
 "cells": [
  {
   "cell_type": "markdown",
   "metadata": {},
   "source": [
    "# Lecture 3.2: Attack on AES with Differential-Power-Analysis (Kocher et al. 1999) using Lascar\n",
    "\n",
    "#### Learning goals\n",
    "- Learn how to apply a DPA attack using Lascar\n",
    "\n",
    "#### References\n",
    "- https://github.com/Ledger-Donjon/lascar"
   ]
  },
  {
   "cell_type": "code",
   "execution_count": null,
   "metadata": {},
   "outputs": [],
   "source": [
    "%load_ext autoreload\n",
    "%autoreload 2\n",
    "\n",
    "import os\n",
    "import random\n",
    "\n",
    "import numpy as np\n",
    "import plotly.graph_objects as pgo\n",
    "\n",
    "from securec.capture import capture"
   ]
  },
  {
   "cell_type": "markdown",
   "metadata": {},
   "source": [
    "## Why Lascar?\n",
    "\n",
    "When it comes to \"real\" side-channel analysis the author favours [Lascar](https://github.com/Ledger-Donjon/lascar) with the following reasons:\n",
    "\n",
    "- High performance\n",
    "- Well structured and documented code\n",
    "- Easy start due to good examples\n",
    "- Citations given for the methods of analysis\n",
    "\n",
    "## Main aspects of lascar\n",
    "\n",
    "While lascar's tutorial and the examples provide a comprehensive entry point the main concepts are demonstrated here to make the subsequent analysis understandable."
   ]
  },
  {
   "cell_type": "code",
   "execution_count": null,
   "metadata": {},
   "outputs": [],
   "source": [
    "import lascar"
   ]
  },
  {
   "cell_type": "markdown",
   "metadata": {},
   "source": [
    "### Container"
   ]
  },
  {
   "cell_type": "code",
   "execution_count": null,
   "metadata": {},
   "outputs": [],
   "source": [
    "import sys\n",
    "print(sys.modules['lascar.container'].__doc__)"
   ]
  },
  {
   "cell_type": "markdown",
   "metadata": {},
   "source": [
    "We will mainly use the following container:"
   ]
  },
  {
   "cell_type": "code",
   "execution_count": null,
   "metadata": {},
   "outputs": [],
   "source": [
    "lascar.TraceBatchContainer"
   ]
  },
  {
   "cell_type": "markdown",
   "metadata": {},
   "source": [
    "As described [here](https://github.com/Ledger-Donjon/lascar/blob/master/tutorial/01-discovering-containers.py) it takes to items:\n",
    "\n",
    "\n",
    "A side-channel trace (Trace in lascar), is a couple of two items:\n",
    "- The first item is \"leakage\" and represents the side-channel observable\n",
    "- The second item is \"value\" and represents the handled values during the observation of \"leakage\".\n",
    "The only restriction here is that \"leakage\" and \"data\" must be numpy.arrays of any shape.\n",
    "trace = (leakage, value) where leakage and value are numpy.arrays\n",
    "The __str__ method of Trace displays the shape and dtype for both leakage and value."
   ]
  },
  {
   "cell_type": "markdown",
   "metadata": {},
   "source": [
    "### Engine\n",
    "\n",
    "The most important concept is `Engine`. It performs the actual analysis."
   ]
  },
  {
   "cell_type": "code",
   "execution_count": null,
   "metadata": {},
   "outputs": [],
   "source": [
    "print(lascar.Engine.__doc__)"
   ]
  },
  {
   "cell_type": "markdown",
   "metadata": {},
   "source": [
    "One example is `DpaEngine`."
   ]
  },
  {
   "cell_type": "code",
   "execution_count": null,
   "metadata": {},
   "outputs": [],
   "source": [
    "print(lascar.DpaEngine.__doc__)"
   ]
  },
  {
   "cell_type": "markdown",
   "metadata": {},
   "source": [
    "### OutputMethod\n",
    "\n",
    "The data which is produced by an Engine is passed to an `OutputMethod.`"
   ]
  },
  {
   "cell_type": "code",
   "execution_count": null,
   "metadata": {},
   "outputs": [],
   "source": [
    "print(lascar.OutputMethod.__doc__)"
   ]
  },
  {
   "cell_type": "markdown",
   "metadata": {},
   "source": [
    "### Session\n",
    "\n",
    "The final ingredient to perform an analysis is a `Session`."
   ]
  },
  {
   "cell_type": "code",
   "execution_count": null,
   "metadata": {},
   "outputs": [],
   "source": [
    "print(lascar.Session.__doc__)"
   ]
  },
  {
   "cell_type": "markdown",
   "metadata": {},
   "source": [
    "### Note\n",
    "\n",
    "Lascar uses `numba.jit` to speed up calculations.\n",
    "This \"costs\" an initial effort when compiling the functions but provides awesome speed afterwards.\n",
    "Jit is enabled by default and can be configured for some engines."
   ]
  },
  {
   "cell_type": "markdown",
   "metadata": {},
   "source": [
    "<div style=\"border: 3px solid plum; border-radius: 5px; padding: 5px; width: calc(100% - 20px);\">\n",
    "<div class=\"h2\" style=\"font-variant: all-small-caps;\">Exercise 1</div>\n",
    "\n",
    "Perform a DPA attack on [sbox_lookup.c](sbox_lookup.c) on the LSB of the output of the first SBox lookup using Lascar. Use\n",
    "- `TraceBatchContainer`\n",
    "- `DpaEngine`\n",
    "- `ConsoleOutputMethod`\n",
    "\n",
    "</div>"
   ]
  },
  {
   "cell_type": "markdown",
   "metadata": {},
   "source": [
    "<div style=\"border: 3px solid plum; border-radius: 5px; padding: 5px; width: calc(100% - 20px);\">\n",
    "<div class=\"h2\" style=\"font-variant: all-small-caps;\">Exercise 2 (optional)</div>\n",
    "\n",
    "Perform the attack using two output modes together: `ConsoleOutputMode` and `MatplotlibOutputMethod`.\n",
    "\n",
    "</div>"
   ]
  },
  {
   "cell_type": "markdown",
   "metadata": {},
   "source": [
    "<div style=\"border: 3px solid plum; border-radius: 5px; padding: 5px; width: calc(100% - 20px);\">\n",
    "<div class=\"h2\" style=\"font-variant: all-small-caps;\">Exercise 3 (optional)</div>\n",
    "\n",
    "Perform a full DPA attack (i.e. reveal all key bytes) using Lascar.\n",
    "\n",
    "Hints:\n",
    "- Multiple Engines are needed\n",
    "- 16 different selection functions are needed. Create a function that returns a selection function.\n",
    "\n",
    "</div>"
   ]
  }
 ],
 "metadata": {
  "kernelspec": {
   "display_name": "Python 3.10.7 ('chipwhisperer-td5n7f84')",
   "language": "python",
   "name": "python3"
  },
  "language_info": {
   "codemirror_mode": {
    "name": "ipython",
    "version": 3
   },
   "file_extension": ".py",
   "mimetype": "text/x-python",
   "name": "python",
   "nbconvert_exporter": "python",
   "pygments_lexer": "ipython3",
   "version": "3.10.8"
  },
  "vscode": {
   "interpreter": {
    "hash": "36760b1de54f02795c2144c8e36ca6fc5439200debad8ef46d119beb88a8f8a2"
   }
  }
 },
 "nbformat": 4,
 "nbformat_minor": 2
}
