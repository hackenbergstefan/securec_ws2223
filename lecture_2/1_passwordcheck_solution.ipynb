{
 "cells": [
  {
   "cell_type": "markdown",
   "metadata": {},
   "source": [
    "# Attack a password check\n",
    "\n",
    "#### Learning goals:\n",
    "- Learn how a \"bad\" password check looks like\n",
    "- Learn how to run code from C files on ChipWhisperer\n",
    "- Learn how to read output from ChipWhisperer"
   ]
  },
  {
   "cell_type": "code",
   "execution_count": null,
   "metadata": {},
   "outputs": [],
   "source": [
    "%load_ext autoreload\n",
    "%autoreload 2\n",
    "\n",
    "import os\n",
    "\n",
    "import plotly.graph_objects as pgo\n",
    "import numpy as np\n",
    "\n",
    "from securec.capture import capture"
   ]
  },
  {
   "cell_type": "markdown",
   "metadata": {},
   "source": [
    "## 1. Record traces from passwordcheck.c"
   ]
  },
  {
   "cell_type": "code",
   "execution_count": null,
   "metadata": {},
   "outputs": [],
   "source": [
    "data = capture(\n",
    "    platform=\"elmo\",\n",
    "    number_of_traces=1,\n",
    "    number_of_samples=100,\n",
    "    fromfile=os.path.abspath(\"passwordcheck.c\"),\n",
    "    inputfunction=lambda _: 8 * [0],\n",
    ")"
   ]
  },
  {
   "cell_type": "markdown",
   "metadata": {},
   "source": [
    "<div style=\"border: 3px solid plum; border-radius: 5px; padding: 5px; width: calc(100% - 20px);\">\n",
    "<div class=\"h2\" style=\"font-variant: all-small-caps;\">Exercise 1</div>\n",
    "\n",
    "1. Understand [passwordcheck.c](passwordcheck.c). What is `setup()`, `run()`, and `teardown()`?\n",
    "2. Think about problems in this C code. \n",
    "   What happens if `input` smaller than the stored password?\n",
    "\n",
    "</div>"
   ]
  },
  {
   "cell_type": "markdown",
   "metadata": {},
   "source": [
    "<div style=\"border: 3px solid plum; border-radius: 5px; padding: 5px; width: calc(100% - 20px);\">\n",
    "<div class=\"h2\" style=\"font-variant: all-small-caps;\">Exercise 2</div>\n",
    "\n",
    "1. Record traces with different inputs.\n",
    "2. Plot the recorded traces. Is there a difference?\n",
    "\n",
    "</div>"
   ]
  },
  {
   "cell_type": "code",
   "execution_count": null,
   "metadata": {},
   "outputs": [],
   "source": [
    "data = capture(\n",
    "    platform=\"elmo\",\n",
    "    number_of_traces=7,\n",
    "    number_of_samples=100,\n",
    "    fromfile=os.path.abspath(\"passwordcheck.c\"),\n",
    "    inputfunction=lambda i: [\n",
    "        list(b\"00000000\"),\n",
    "        list(b\"i0000000\"),\n",
    "        list(b\"in000000\"),\n",
    "        list(b\"ina00000\"),\n",
    "        list(b\"inb00000\"),\n",
    "        list(b\"inc00000\"),\n",
    "        list(b\"inf00000\"),\n",
    "    ][i],\n",
    ")\n",
    "\n",
    "fig = pgo.Figure()\n",
    "for d in data:\n",
    "    fig.add_trace(pgo.Scatter(y=d[\"trace\"], name=bytes(d[\"input\"]).decode()))\n",
    "fig.show()\n",
    "\n",
    "fig = pgo.Figure()\n",
    "base_trace = data[-5]\n",
    "for d in data[-4:]:\n",
    "    fig.add_trace(\n",
    "        pgo.Scatter(\n",
    "            y=abs(base_trace[\"trace\"] - d[\"trace\"]),\n",
    "            name=f'abs({bytes(base_trace[\"input\"]).decode()} - {bytes(d[\"input\"]).decode()})',\n",
    "        )\n",
    "    )\n",
    "fig.show()"
   ]
  },
  {
   "cell_type": "markdown",
   "metadata": {},
   "source": [
    "<div style=\"border: 3px solid plum; border-radius: 5px; padding: 5px; width: calc(100% - 20px);\">\n",
    "<div class=\"h2\" style=\"font-variant: all-small-caps;\">Exercise 3</div>\n",
    "\n",
    "Crack the password using the differences!\n",
    "\n",
    "1. Write down the attack in pseudocode.\n",
    "2. Implement an automated attack.\n",
    "\n",
    "</div>"
   ]
  },
  {
   "cell_type": "code",
   "execution_count": null,
   "metadata": {},
   "outputs": [],
   "source": [
    "import string\n",
    "\n",
    "\n",
    "def sad(trace1, trace2):\n",
    "    return sum(abs(trace1 - trace2))\n",
    "\n",
    "\n",
    "def capture_attempt(attempt):\n",
    "    return capture(\n",
    "        platform=\"elmo\",\n",
    "        number_of_traces=1,\n",
    "        number_of_samples=200,\n",
    "        fromfile=os.path.abspath(\"passwordcheck.c\"),\n",
    "        inputfunction=lambda _: attempt,\n",
    "    )[0][\"trace\"]\n",
    "\n",
    "\n",
    "def sad_attack(\n",
    "    length_of_password=8,\n",
    "    test_character=b\"0\",\n",
    "    sad_threshold=1e-3,\n",
    "    charlist=string.ascii_lowercase.encode(),\n",
    "):\n",
    "    attempt = []\n",
    "    for _ in range(length_of_password):\n",
    "        base_trace = capture_attempt(\n",
    "            attempt\n",
    "            + [test_character]\n",
    "            + (length_of_password - len(attempt) - 1) * [test_character]\n",
    "        )\n",
    "        for char in charlist:\n",
    "            trace = capture_attempt(\n",
    "                attempt\n",
    "                + [char]\n",
    "                + (length_of_password - len(attempt) - 1) * [test_character]\n",
    "            )\n",
    "            if sad(base_trace, trace) >= sad_threshold:\n",
    "                attempt.append(char)\n",
    "                print(bytes(attempt))\n",
    "                break\n",
    "        else:\n",
    "            return False, attempt\n",
    "    return True, attempt\n",
    "\n",
    "\n",
    "def sad_attack_nothreshold(\n",
    "    length_of_password=8,\n",
    "    charlist=string.ascii_lowercase.encode(),\n",
    "):\n",
    "    attempt = []\n",
    "\n",
    "    for _ in range(length_of_password):\n",
    "        data = capture(\n",
    "            platform=\"elmo\",\n",
    "            number_of_traces=len(charlist),\n",
    "            number_of_samples=2000,\n",
    "            fromfile=os.path.abspath(\"passwordcheck.c\"),\n",
    "            inputfunction=lambda i: attempt + [charlist[i]],\n",
    "        )[\"trace\"]\n",
    "        diffs1 = np.sum(np.abs(data - data[0, :]), axis=1)\n",
    "        diffs2 = np.sum(np.abs(data - data[1, :]), axis=1)\n",
    "        if np.mean(diffs1) <= np.mean(diffs2):\n",
    "            diffs = diffs1\n",
    "        else:\n",
    "            diffs = diffs2\n",
    "        attempt.append(charlist[np.argmax(diffs)])\n",
    "        print(bytes(attempt))\n",
    "    return attempt\n",
    "\n",
    "\n",
    "sad_attack_nothreshold()"
   ]
  },
  {
   "cell_type": "markdown",
   "metadata": {},
   "source": [
    "<div style=\"border: 3px solid plum; border-radius: 5px; padding: 5px; width: calc(100% - 20px);\">\n",
    "<div class=\"h2\" style=\"font-variant: all-small-caps;\">Exercise 4</div>\n",
    "\n",
    "1. Change `stored_password` and download the program (execute `capture` once).\n",
    "2. Exchange your ChipWhisperer with another student.\n",
    "3. Can you crack the password of your colleague?\n",
    "\n",
    "Hint: Download of a program can be skipped by:\n",
    "```python\n",
    "data = capture(\n",
    "    ...\n",
    "    code=None,\n",
    "    fromfile=None,\n",
    "    ...\n",
    ")\n",
    "```\n",
    "\n",
    "</div>"
   ]
  },
  {
   "cell_type": "markdown",
   "metadata": {},
   "source": [
    "## The sum of absolute differences\n",
    "In this example we want to see how a technique called SAD (sum of absolute differences) is useful to auto-detect whether a character was correct or not.\n",
    "Given two traces $t_1, t_2$ their SAD value is defined as:\n",
    "$$\\text{SAD}(t_1, t_2) := \\sum_i \\big| t_1[i] - t_2[i] \\big|,$$\n",
    "where $t[i]$ is the value of trace $t$ at point $i$."
   ]
  },
  {
   "cell_type": "markdown",
   "metadata": {},
   "source": [
    "This attack is an example for a _Timing attack_. Further information: https://en.wikipedia.org/wiki/Timing_attack"
   ]
  }
 ],
 "metadata": {
  "kernelspec": {
   "display_name": "Python 3.10.7 ('chipwhisperer-td5n7f84')",
   "language": "python",
   "name": "python3"
  },
  "language_info": {
   "codemirror_mode": {
    "name": "ipython",
    "version": 3
   },
   "file_extension": ".py",
   "mimetype": "text/x-python",
   "name": "python",
   "nbconvert_exporter": "python",
   "pygments_lexer": "ipython3",
   "version": "3.10.8"
  },
  "vscode": {
   "interpreter": {
    "hash": "36760b1de54f02795c2144c8e36ca6fc5439200debad8ef46d119beb88a8f8a2"
   }
  }
 },
 "nbformat": 4,
 "nbformat_minor": 2
}
