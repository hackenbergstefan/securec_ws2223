{
 "cells": [
  {
   "cell_type": "markdown",
   "metadata": {},
   "source": [
    "# Attack a password check\n",
    "\n",
    "#### Learning goals:\n",
    "- Learn how a \"bad\" password check looks like\n",
    "- Learn how to run code from C files on ChipWhisperer\n",
    "- Learn how to read output from ChipWhisperer"
   ]
  },
  {
   "cell_type": "code",
   "execution_count": null,
   "metadata": {},
   "outputs": [],
   "source": [
    "%load_ext autoreload\n",
    "%autoreload 2\n",
    "\n",
    "import os\n",
    "\n",
    "from securec.capture import capture"
   ]
  },
  {
   "cell_type": "markdown",
   "metadata": {},
   "source": [
    "## 1. Record traces from passwordcheck.c"
   ]
  },
  {
   "cell_type": "code",
   "execution_count": null,
   "metadata": {},
   "outputs": [],
   "source": [
    "data = capture(\n",
    "    platform=\"cwlitexmega\",\n",
    "    number_of_traces=1,\n",
    "    number_of_samples=100,\n",
    "    fromfile=os.path.abspath(\"passwordcheck.c\"),\n",
    "    inputfunction=lambda _: 8 * [0],\n",
    ")"
   ]
  },
  {
   "cell_type": "markdown",
   "metadata": {},
   "source": [
    "<div style=\"border: 3px solid plum; border-radius: 5px; padding: 5px; width: calc(100% - 20px);\">\n",
    "<div class=\"h2\" style=\"font-variant: all-small-caps;\">Exercise 1</div>\n",
    "\n",
    "1. Understand [passwordcheck.c](passwordcheck.c). What is `setup()`, `run()`, and `teardown()`?\n",
    "2. Think about problems in this C code. \n",
    "   What happens if `input` smaller than the stored password?\n",
    "\n",
    "</div>"
   ]
  },
  {
   "cell_type": "markdown",
   "metadata": {},
   "source": [
    "<div style=\"border: 3px solid plum; border-radius: 5px; padding: 5px; width: calc(100% - 20px);\">\n",
    "<div class=\"h2\" style=\"font-variant: all-small-caps;\">Exercise 2</div>\n",
    "\n",
    "1. Record traces with different inputs.\n",
    "2. Plot the recorded traces. Is there a difference?\n",
    "\n",
    "</div>"
   ]
  },
  {
   "cell_type": "markdown",
   "metadata": {},
   "source": [
    "<div style=\"border: 3px solid plum; border-radius: 5px; padding: 5px; width: calc(100% - 20px);\">\n",
    "<div class=\"h2\" style=\"font-variant: all-small-caps;\">Exercise 3</div>\n",
    "\n",
    "Crack the password using the differences!\n",
    "\n",
    "1. Write down the attack in pseudocode.\n",
    "2. Implement an automated attack.\n",
    "\n",
    "</div>"
   ]
  },
  {
   "cell_type": "markdown",
   "metadata": {},
   "source": [
    "<div style=\"border: 3px solid plum; border-radius: 5px; padding: 5px; width: calc(100% - 20px);\">\n",
    "<div class=\"h2\" style=\"font-variant: all-small-caps;\">Exercise 4</div>\n",
    "\n",
    "1. Change `stored_password` and download the program (execute `capture` once).\n",
    "2. Exchange your ChipWhisperer with another student.\n",
    "3. Can you crack the password of your colleague?\n",
    "\n",
    "Hint: Download of a program can be skipped by:\n",
    "```python\n",
    "data = capture(\n",
    "    ...\n",
    "    code=None,\n",
    "    fromfile=None,\n",
    "    ...\n",
    ")\n",
    "```\n",
    "\n",
    "</div>"
   ]
  }
 ],
 "metadata": {
  "kernelspec": {
   "display_name": "Python 3.10.7 ('chipwhisperer-td5n7f84')",
   "language": "python",
   "name": "python3"
  },
  "language_info": {
   "codemirror_mode": {
    "name": "ipython",
    "version": 3
   },
   "file_extension": ".py",
   "mimetype": "text/x-python",
   "name": "python",
   "nbconvert_exporter": "python",
   "pygments_lexer": "ipython3",
   "version": "3.10.8"
  },
  "vscode": {
   "interpreter": {
    "hash": "36760b1de54f02795c2144c8e36ca6fc5439200debad8ef46d119beb88a8f8a2"
   }
  }
 },
 "nbformat": 4,
 "nbformat_minor": 2
}
