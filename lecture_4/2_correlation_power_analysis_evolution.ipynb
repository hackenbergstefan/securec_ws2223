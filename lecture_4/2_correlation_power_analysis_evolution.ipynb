{
 "cells": [
  {
   "cell_type": "markdown",
   "metadata": {},
   "source": [
    "# Correlation Power Analysis (Brier et al. 2004) - Evolution Plot\n",
    "\n",
    "\n",
    "#### Learning goals\n",
    "- Learn how to detect how many traces are needed for a CPA attack\n",
    "- Learn what an Evolution Plot is\n",
    "\n",
    "#### References\n",
    "- `lascar.ScoreProgressionOutputMethod`"
   ]
  },
  {
   "cell_type": "code",
   "execution_count": null,
   "metadata": {},
   "outputs": [],
   "source": [
    "%load_ext autoreload\n",
    "%autoreload 2\n",
    "\n",
    "import os\n",
    "import random\n",
    "\n",
    "import lascar\n",
    "import numpy as np\n",
    "import plotly.graph_objects as pgo\n",
    "\n",
    "from securec.capture import capture"
   ]
  },
  {
   "cell_type": "markdown",
   "metadata": {},
   "source": [
    "## How many traces are needed?\n",
    "\n",
    "To detect the minimal number of required traces for a CPA attack we have to determine when the _correct_ key guess is distinguishable from all _incorrect_ ones.\n",
    "\n",
    "An _Evolution Plot_ can visualize this."
   ]
  },
  {
   "cell_type": "code",
   "execution_count": null,
   "metadata": {},
   "outputs": [],
   "source": [
    "class EvolutionOutputMethod(lascar.ScoreProgressionOutputMethod):\n",
    "    def _finalize(self):\n",
    "        scores = np.array(list(self.scores.values())[0]).T\n",
    "        fig = pgo.Figure()\n",
    "        for guess, score in zip(self.engines[0]._guess_range, scores):\n",
    "            fig.add_trace(pgo.Scatter(y=score, name=str(guess)))\n",
    "        fig.show()"
   ]
  },
  {
   "cell_type": "markdown",
   "metadata": {},
   "source": [
    "<div style=\"border: 3px solid plum; border-radius: 5px; padding: 5px; width: calc(100% - 20px);\">\n",
    "<div class=\"h2\" style=\"font-variant: all-small-caps;\">Exercise 1</div>\n",
    "\n",
    "Create an Evolution Plot using Lascar's `CpaEngine`.\n",
    "\n",
    "Hints:\n",
    "- `lascar.Session` takes an argument to store intermediate values in regular steps. Append `output_steps=range(0, len(data), 100)` to the list of parameters when creating the session.\n",
    "\n",
    "</div>"
   ]
  }
 ],
 "metadata": {
  "kernelspec": {
   "display_name": "Python 3.10.8 ('chipwhisperer-td5n7f84')",
   "language": "python",
   "name": "python3"
  },
  "language_info": {
   "codemirror_mode": {
    "name": "ipython",
    "version": 3
   },
   "file_extension": ".py",
   "mimetype": "text/x-python",
   "name": "python",
   "nbconvert_exporter": "python",
   "pygments_lexer": "ipython3",
   "version": "3.10.8"
  },
  "vscode": {
   "interpreter": {
    "hash": "36760b1de54f02795c2144c8e36ca6fc5439200debad8ef46d119beb88a8f8a2"
   }
  }
 },
 "nbformat": 4,
 "nbformat_minor": 2
}
