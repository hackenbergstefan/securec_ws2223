{
 "cells": [
  {
   "attachments": {},
   "cell_type": "markdown",
   "metadata": {},
   "source": [
    "# Correlation Power Analysis (Brier et al. 2004)"
   ]
  },
  {
   "cell_type": "code",
   "execution_count": null,
   "metadata": {},
   "outputs": [],
   "source": [
    "%load_ext autoreload\n",
    "%autoreload 2\n",
    "\n",
    "import os\n",
    "import random\n",
    "\n",
    "import lascar\n",
    "import numpy as np\n",
    "import plotly.graph_objects as pgo\n",
    "\n",
    "from securec.capture import capture"
   ]
  },
  {
   "attachments": {},
   "cell_type": "markdown",
   "metadata": {},
   "source": [
    "## Exercise 1"
   ]
  },
  {
   "cell_type": "code",
   "execution_count": null,
   "metadata": {},
   "outputs": [],
   "source": [
    "data = capture(\n",
    "    platform=\"elmo\",\n",
    "    number_of_traces=500,\n",
    "    number_of_samples=0,\n",
    "    fromfile=os.path.abspath(\"../lecture_3/sbox_lookup.c\"),\n",
    "    inputfunction=lambda _: [random.randint(0, 255)] + 15 * [0],\n",
    ")"
   ]
  },
  {
   "cell_type": "code",
   "execution_count": null,
   "metadata": {},
   "outputs": [],
   "source": [
    "fig = pgo.Figure()\n",
    "for d in data:\n",
    "    fig.add_trace(pgo.Scatter(y=d[\"trace\"]))\n",
    "fig.show()"
   ]
  },
  {
   "cell_type": "code",
   "execution_count": null,
   "metadata": {},
   "outputs": [],
   "source": [
    "groups = {i: [] for i in range(9)}\n",
    "for d in data:\n",
    "    groups[lascar.hamming(d[\"input\"][0])].append(d[\"trace\"][12])\n",
    "\n",
    "for i, g in groups.items(): \n",
    "    groups[i] = np.mean(g)"
   ]
  },
  {
   "cell_type": "code",
   "execution_count": null,
   "metadata": {},
   "outputs": [],
   "source": [
    "fig = pgo.Figure()\n",
    "fig.add_trace(pgo.Scatter(x=list(groups.keys()), y=list(groups.values())))\n",
    "fig.show()"
   ]
  },
  {
   "attachments": {},
   "cell_type": "markdown",
   "metadata": {},
   "source": [
    "## Exercise 3"
   ]
  },
  {
   "cell_type": "code",
   "execution_count": null,
   "metadata": {},
   "outputs": [],
   "source": [
    "def pearson(x, y):\n",
    "    x_mean = np.mean(x)\n",
    "    y_mean = np.mean(y)\n",
    "    return sum((x - x_mean) * (y - y_mean)) / np.sqrt(sum((x - x_mean) ** 2) * sum((y - y_mean) ** 2))"
   ]
  },
  {
   "cell_type": "code",
   "execution_count": null,
   "metadata": {},
   "outputs": [],
   "source": [
    "def aes_sbox_cpa(\n",
    "    traces,\n",
    "    key_byte_index=0,\n",
    "    trace_point=42,\n",
    "):\n",
    "    pearsons = [\n",
    "        (\n",
    "            abs(\n",
    "                pearson(\n",
    "                    traces[\"trace\"][:, trace_point],\n",
    "                    [\n",
    "                        lascar.hamming(lascar.tools.aes.sbox[j ^ guess])\n",
    "                        for j in traces[\"input\"][:, 0]\n",
    "                    ],\n",
    "                )\n",
    "            ),\n",
    "            guess,\n",
    "        )\n",
    "        for guess in range(256)\n",
    "    ]\n",
    "    return list(sorted(pearsons, reverse=True))\n"
   ]
  },
  {
   "cell_type": "code",
   "execution_count": null,
   "metadata": {},
   "outputs": [],
   "source": [
    "aes_sbox_cpa(data, trace_point=21)"
   ]
  },
  {
   "attachments": {},
   "cell_type": "markdown",
   "metadata": {},
   "source": [
    "## Exercise 4"
   ]
  },
  {
   "cell_type": "code",
   "execution_count": null,
   "metadata": {},
   "outputs": [],
   "source": [
    "import tqdm\n",
    "def aes_sbox_cpa_2(\n",
    "    traces,\n",
    "    key_byte_index=0,\n",
    "):\n",
    "    pearsons = []\n",
    "    for guess in tqdm.tqdm(range(256)):\n",
    "        pearsons.append(\n",
    "            np.nanmax([np.abs(pearson(\n",
    "                    traces[\"trace\"][:, trace_point],\n",
    "                    [\n",
    "                        lascar.hamming(lascar.tools.aes.sbox[j ^ guess])\n",
    "                        for j in traces[\"input\"][:, 0]\n",
    "                    ],\n",
    "            )) for trace_point in range(traces[\"trace\"].shape[1])])\n",
    "        )\n",
    "    return list(sorted(pearsons, reverse=True))"
   ]
  },
  {
   "cell_type": "code",
   "execution_count": null,
   "metadata": {},
   "outputs": [],
   "source": [
    "aes_sbox_cpa_2(data)"
   ]
  },
  {
   "attachments": {},
   "cell_type": "markdown",
   "metadata": {},
   "source": [
    "## Exercise 5"
   ]
  },
  {
   "cell_type": "code",
   "execution_count": null,
   "metadata": {},
   "outputs": [],
   "source": [
    "def selection_function(value, guess):\n",
    "    return lascar.hamming(lascar.tools.aes.sbox[value[\"input\"][0] ^ guess])\n",
    "\n",
    "\n",
    "trace = lascar.TraceBatchContainer(data[\"trace\"], data)\n",
    "engine = lascar.CpaEngine(\n",
    "    selection_function=selection_function,\n",
    "    guess_range=range(256),\n",
    ")\n",
    "\n",
    "session = lascar.Session(\n",
    "    trace,\n",
    "    engine=engine,\n",
    "    output_method=lascar.TableOutputMethod(engine),\n",
    ")\n",
    "session.run(batch_size=\"auto\")"
   ]
  }
 ],
 "metadata": {
  "kernelspec": {
   "display_name": "Python 3.10.8 ('chipwhisperer-td5n7f84')",
   "language": "python",
   "name": "python3"
  },
  "language_info": {
   "codemirror_mode": {
    "name": "ipython",
    "version": 3
   },
   "file_extension": ".py",
   "mimetype": "text/x-python",
   "name": "python",
   "nbconvert_exporter": "python",
   "pygments_lexer": "ipython3",
   "version": "3.10.8"
  },
  "vscode": {
   "interpreter": {
    "hash": "36760b1de54f02795c2144c8e36ca6fc5439200debad8ef46d119beb88a8f8a2"
   }
  }
 },
 "nbformat": 4,
 "nbformat_minor": 2
}
