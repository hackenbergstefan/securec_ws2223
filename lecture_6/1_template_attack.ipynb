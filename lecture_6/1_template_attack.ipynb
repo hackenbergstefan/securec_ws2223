{
 "cells": [
  {
   "cell_type": "markdown",
   "metadata": {},
   "source": [
    "# Lecture 6: Template attacks\n",
    "\n",
    "\n",
    "#### Learning goals\n",
    "- Learn the mathematical backgrounds of _Template Attacks_\n",
    "- Learn how to perform a Template attack\n",
    "- Learn how to perform a Template attack using lascar\n",
    "\n",
    "#### References\n",
    "- https://wiki.newae.com/Template_Attacks"
   ]
  },
  {
   "cell_type": "markdown",
   "metadata": {},
   "source": [
    "## 1. Template attack at a glance\n",
    "\n",
    "Template attacks are a powerful type of side-channel attack. These attacks are a subset of profiling attacks, where an attacker creates a \"profile\" of a sensitive device and applies this profile to quickly find a victim's secret key.\n",
    "\n",
    "There are four steps to a template attack:\n",
    "\n",
    "1. Using a copy of the protected device, record a large number of power traces using many different inputs (plaintexts and keys). Ensure that enough traces are recorded to give us information about each subkey value.\n",
    "2. Create a template of the device's operation. This template notes a few \"points of interest\" in the power traces and a multivariate distribution of the power traces at each point.\n",
    "3. On the victim device, record a small number of power traces. Use multiple plaintexts. (We have no control over the secret key, which is fixed.)\n",
    "4. Apply the template to the attack traces. For each subkey, track which value is most likely to be the correct subkey. Continue until the key has been recovered.\n",
    "\n",
    "![Prinzip eines Templateangriffs](./2022-10-06%20Hackerkiste%20Prinzip%20eines%20Templateangriffs.png)"
   ]
  },
  {
   "cell_type": "code",
   "execution_count": null,
   "metadata": {},
   "outputs": [],
   "source": [
    "%load_ext autoreload\n",
    "%autoreload 2\n",
    "\n",
    "import os\n",
    "import random\n",
    "\n",
    "import numpy as np\n",
    "import plotly.graph_objects as pgo\n",
    "import scipy\n",
    "import lascar\n",
    "\n",
    "from securec.capture import capture"
   ]
  },
  {
   "cell_type": "markdown",
   "metadata": {},
   "source": [
    "## 2. Detecting data between noise"
   ]
  },
  {
   "cell_type": "markdown",
   "metadata": {},
   "source": [
    "<div style=\"border: 3px solid plum; border-radius: 5px; padding: 5px; width: calc(100% - 20px);\">\n",
    "<div class=\"h2\" style=\"font-variant: all-small-caps;\">Exercise 1</div>\n",
    "\n",
    "Generate traces using the following code:\n",
    "\n",
    "```python\n",
    "data = capture(\n",
    "    ...\n",
    "    code=\"volatile uint8_t result = input[0];\"\n",
    ")\n",
    "```\n",
    "\n",
    "1. Capture 1000 traces with the same input.\n",
    "2. Plot a histogram.\n",
    "3. Explain the result.\n",
    "\n",
    "Hints:\n",
    "- A histogram with 10 \"bins\" at sample `x` can be created using: `np.histogram(data[\"trace\"][:, x], bins=10, density=True)`\n",
    "- The best plot for a histogram is a bar plot. Use `fig.add_trace(pgo.Bar(...))`.\n",
    "- For CWLite XMEGA `x = 16` might be a good coordinate to look at.\n",
    "\n",
    "</div>"
   ]
  },
  {
   "cell_type": "markdown",
   "metadata": {},
   "source": [
    "<div style=\"border: 3px solid plum; border-radius: 5px; padding: 5px; width: calc(100% - 20px);\">\n",
    "<div class=\"h2\" style=\"font-variant: all-small-caps;\">Exercise 2</div>\n",
    "\n",
    "Generate traces using the following code:\n",
    "\n",
    "```python\n",
    "data = capture(\n",
    "    ...\n",
    "    code=\"volatile uint8_t result = input[0];\"\n",
    ")\n",
    "```\n",
    "\n",
    "1. Capture 300 traces: 100 with input `0x00`, 100 with input `0xF0`, and 100 with input `0xFF`.\n",
    "2. Plot three histograms.\n",
    "3. Explain the result.\n",
    "\n",
    "</div>"
   ]
  },
  {
   "cell_type": "markdown",
   "metadata": {},
   "source": [
    "<div style=\"border: 3px solid plum; border-radius: 5px; padding: 5px; width: calc(100% - 20px);\">\n",
    "<div class=\"h2\" style=\"font-variant: all-small-caps;\">Exercise 3</div>\n",
    "\n",
    "Create an extrapolation of the three histograms and plot as overlay together with the histograms.\n",
    "\n",
    "Hints:\n",
    "- `mu, std = scipy.stats.norm.fit(data)` extrapolates mean value and standard deviation of the given data\n",
    "- `scipy.stats.norm.pdf(xs, mu, std)` calculates the probability density function for given mean, standard deviation, and `xs`.\n",
    "- `xs = np.linspace(a, b)` generates an array between `a` and `b` with a default of `num=50` datapoints.\n",
    "\n",
    "</div>"
   ]
  },
  {
   "cell_type": "markdown",
   "metadata": {},
   "source": [
    "Looking at the exercises before we see that a \"template\" is nothing else then a mean and standard deviation value.\n",
    "Usually multiple data points are needed to have a good template.\n",
    "In a **multivariate Gaussian normal distribution** the terms are: **mean-vector** and **covariance-matrix**."
   ]
  },
  {
   "cell_type": "markdown",
   "metadata": {},
   "source": [
    "## 3. Develop an attack for AES SBox Lookup"
   ]
  },
  {
   "attachments": {},
   "cell_type": "markdown",
   "metadata": {},
   "source": [
    "<div style=\"border: 3px solid plum; border-radius: 5px; padding: 5px; width: calc(100% - 20px);\">\n",
    "<div class=\"h2\" style=\"font-variant: all-small-caps;\">Exercise 4</div>\n",
    "\n",
    "Create templates for AES SBox Lookup:\n",
    "\n",
    "1. Record 5000 traces of AES SBox Lookup with random input and random key.\n",
    "2. Extract only the sample points xx, yy, zz when using `cwlitexmega`.\n",
    "3. Group the  by the Hamming weight of the output of the SBox Lookup of the first byte.\n",
    "4. Calculate _mean vector_ and _covariance matrix_ for each group. \n",
    "   The mean vector is of shape `(3, )` for each group.\n",
    "   The covariance matrix is of shape `(3, 3)` for each group.\n",
    "5. Create a `scipy.stats.multivariate_normal(mean_vector, covariance_matrix)` instance for each group.\n",
    "\n",
    "Apply the templates:\n",
    "\n",
    "1. Capture one trace with an unknown key and random input.\n",
    "2. Apply the template from above: Call `.pdf()` for each group.\n",
    "   The maximum value corresponds to the most likely group.\n",
    "\n",
    "Optional:\n",
    "- Most often a single trace is not enough to get a reliable result. \n",
    "  Capture more traces with random input. \n",
    "  Apply the template on each trace using `logpdf` and sum the result.\n",
    "\n",
    "</div>"
   ]
  },
  {
   "attachments": {},
   "cell_type": "markdown",
   "metadata": {},
   "source": [
    "## 4. Find Points of Interest\n",
    "\n",
    "In the previous attack we assumed to know which positions are interesting.\n",
    "Points of Interest (POIs) can be found e.g. with the following method:\n",
    "\n",
    "1. Capture traces with random input and random key\n",
    "2. Group the traces by the Hamming weight of the output of the SBox Lookup of the first byte\n",
    "3. Calculate the sum of the pairwise squared difference, i.e. $\\sum_{i,j=0}^8 (\\bar t_i - \\bar t_j)^2$ where $\\bar t_i$ is the mean of all traces of the group with Hamming weight $i$.\n",
    "4. Take the sample coordinates of 3 - 5 maximum points."
   ]
  },
  {
   "attachments": {},
   "cell_type": "markdown",
   "metadata": {},
   "source": [
    "<div style=\"border: 3px solid plum; border-radius: 5px; padding: 5px; width: calc(100% - 20px);\">\n",
    "<div class=\"h2\" style=\"font-variant: all-small-caps;\">Exercise 5</div>\n",
    "\n",
    "Repeat the template attack but calculate the POIs.\n",
    "\n",
    "</div>"
   ]
  },
  {
   "attachments": {},
   "cell_type": "markdown",
   "metadata": {},
   "source": [
    "## 5. Template attack using `sklearn.discriminant_analysis` and `lascar`"
   ]
  },
  {
   "attachments": {},
   "cell_type": "markdown",
   "metadata": {},
   "source": [
    "<div style=\"border: 3px solid plum; border-radius: 5px; padding: 5px; width: calc(100% - 20px);\">\n",
    "<div class=\"h2\" style=\"font-variant: all-small-caps;\">Exercise 6</div>\n",
    "\n",
    "Repeat the template attack using `sklearn.discriminant_analysis` and `lascar` following https://github.com/Ledger-Donjon/lascar/blob/master/examples/base/profiled-attack.py\n",
    "\n",
    "</div>"
   ]
  },
  {
   "cell_type": "code",
   "execution_count": null,
   "metadata": {},
   "outputs": [],
   "source": [
    "import sklearn\n",
    "import sklearn.discriminant_analysis"
   ]
  },
  {
   "cell_type": "code",
   "execution_count": null,
   "metadata": {},
   "outputs": [],
   "source": [
    "fig = pgo.Figure()\n",
    "for d in data[:100]:\n",
    "    fig.add_trace(pgo.Scatter(y=d[\"trace\"]))\n",
    "fig.show()\n"
   ]
  },
  {
   "cell_type": "code",
   "execution_count": null,
   "metadata": {},
   "outputs": [],
   "source": [
    "traces_per_input = [[] for _ in range(9)]\n",
    "for value in data:\n",
    "    traces_per_input[lascar.hamming(lascar.tools.aes.sbox[value[\"input\"][0] ^ value[\"input\"][16]])].append(value[\"trace\"])\n",
    "    # traces_per_input[value[\"input\"][0] ^ value[\"input\"][16]].append(value[\"trace\"])\n",
    "means_per_input = [np.average(trace, 0) for trace in traces_per_input]\n",
    "\n",
    "# Calculate sum of absolute differences\n",
    "diffs = np.zeros(means_per_input[0].shape[0])\n",
    "for mean_i in means_per_input:\n",
    "    for mean_j in means_per_input:\n",
    "        diffs += np.abs(mean_i - mean_j)\n",
    "    \n",
    "fig = pgo.Figure()\n",
    "fig.add_trace(pgo.Scatter(y=diffs))\n",
    "fig.show()"
   ]
  },
  {
   "cell_type": "code",
   "execution_count": null,
   "metadata": {},
   "outputs": [],
   "source": [
    "# partition_function must take 1 argument: the value returned by the container at each trace\n",
    "def partition_function(value):\n",
    "    return lascar.hamming(lascar.tools.aes.sbox[\n",
    "        value[\"input\"][0] ^ value[\"input\"][16]\n",
    "    ])\n",
    "\n",
    "classifier_qda = sklearn.discriminant_analysis.QuadraticDiscriminantAnalysis(store_covariance=True)\n",
    "\n",
    "classifier_profile_engine_qda = lascar.ProfileEngine(\n",
    "    \"profile qda\",\n",
    "    classifier=classifier_qda,\n",
    "    partition_function=partition_function,\n",
    "    partition_range=range(9),\n",
    ")\n",
    "\n",
    "trace = lascar.TraceBatchContainer(data[\"trace\"], data)\n",
    "trace.leakage_section = [89, 93, 97, 109, 113]\n",
    "# trace.leakage_section = [45, 46, 47, 48, 49, 50]\n",
    "session = lascar.Session(\n",
    "    trace,\n",
    "    engine=classifier_profile_engine_qda,\n",
    ").run()\n"
   ]
  },
  {
   "cell_type": "code",
   "execution_count": null,
   "metadata": {},
   "outputs": [],
   "source": [
    "data_attack = capture(\n",
    "    platform=\"cwlitexmega\",\n",
    "    number_of_traces=50,\n",
    "    number_of_samples=1000,\n",
    "    fromfile=os.path.abspath(\"../lecture_3/sbox_lookup.c\"),\n",
    "    inputfunction=lambda _: [random.randint(0, 255)] + 15 * [0] + 16 * [0xab],\n",
    ")"
   ]
  },
  {
   "cell_type": "code",
   "execution_count": null,
   "metadata": {},
   "outputs": [],
   "source": [
    "# The sensitive value with guess hypothesis\n",
    "def sensitive_value_with_guess(value, guess):\n",
    "    return lascar.hamming(lascar.tools.aes.sbox[value[\"input\"][0] ^ guess])\n",
    "    # return guess\n",
    "\n",
    "classifier_match_engine_qda = lascar.MatchEngine(\n",
    "    \"match qda\",\n",
    "    classifier=classifier_qda,\n",
    "    selection_function=sensitive_value_with_guess,\n",
    "    guess_range=range(256),\n",
    ")\n",
    "\n",
    "trace = lascar.TraceBatchContainer(data_attack[\"trace\"][:10], data_attack[:10])\n",
    "trace.leakage_section = [89, 93, 97, 109, 113]\n",
    "# trace.leakage_section = [45, 46, 47, 48, 49, 50]\n",
    "session = lascar.Session(\n",
    "    trace,\n",
    "    engine=classifier_match_engine_qda,\n",
    "    # output_method=lascar.ScoreProgressionOutputMethod(classifier_match_engine_qda),\n",
    "    output_method=lascar.ConsoleOutputMethod(classifier_match_engine_qda),\n",
    "    output_steps=range(0, 50, 1),\n",
    ").run(thread_on_update=False)"
   ]
  },
  {
   "cell_type": "code",
   "execution_count": null,
   "metadata": {},
   "outputs": [],
   "source": [
    "classifier_qda.predict(data_attack[\"trace\"][3, 46].reshape(-1, 1))"
   ]
  },
  {
   "cell_type": "code",
   "execution_count": null,
   "metadata": {},
   "outputs": [],
   "source": [
    "clas = sklearn.discriminant_analysis.QuadraticDiscriminantAnalysis(store_covariance=True)"
   ]
  },
  {
   "cell_type": "code",
   "execution_count": null,
   "metadata": {},
   "outputs": [],
   "source": [
    "clas.fit([[0.5], [0.7], [0.6], [0.75]], [0, 1, 0, 1])\n",
    "clas.predict([[0.7]])"
   ]
  },
  {
   "cell_type": "code",
   "execution_count": null,
   "metadata": {},
   "outputs": [],
   "source": [
    "clas.fit(data[\"trace\"][:, 12].reshape(-1, 1), list(map(lascar.hamming, data[\"input\"][:, 0])))"
   ]
  },
  {
   "cell_type": "code",
   "execution_count": null,
   "metadata": {},
   "outputs": [],
   "source": [
    "clas.predict(data[\"trace\"][0, 12].reshape(-1, 1))"
   ]
  },
  {
   "cell_type": "code",
   "execution_count": null,
   "metadata": {},
   "outputs": [],
   "source": [
    "import scipy\n",
    "fig = pgo.Figure()\n",
    "for mean, covar in zip(clas.means_, clas.covariance_):\n",
    "    xs = np.linspace(mean[0] - 2 * covar[0, 0], mean[0] + 2 * covar[0, 0])\n",
    "    s = pgo.Scatter(x=xs, y=scipy.stats.norm.pdf(xs, mean[0], covar[0, 0]))\n",
    "    fig.add_trace(s)\n",
    "fig.show()"
   ]
  }
 ],
 "metadata": {
  "kernelspec": {
   "display_name": "Python 3.10.7 ('chipwhisperer-td5n7f84')",
   "language": "python",
   "name": "python3"
  },
  "language_info": {
   "codemirror_mode": {
    "name": "ipython",
    "version": 3
   },
   "file_extension": ".py",
   "mimetype": "text/x-python",
   "name": "python",
   "nbconvert_exporter": "python",
   "pygments_lexer": "ipython3",
   "version": "3.10.8"
  },
  "vscode": {
   "interpreter": {
    "hash": "36760b1de54f02795c2144c8e36ca6fc5439200debad8ef46d119beb88a8f8a2"
   }
  }
 },
 "nbformat": 4,
 "nbformat_minor": 2
}
