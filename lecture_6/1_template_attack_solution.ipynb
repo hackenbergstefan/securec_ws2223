{
 "cells": [
  {
   "attachments": {},
   "cell_type": "markdown",
   "metadata": {},
   "source": [
    "# Lecture 6: Template attacks"
   ]
  },
  {
   "cell_type": "code",
   "execution_count": null,
   "metadata": {},
   "outputs": [],
   "source": [
    "%load_ext autoreload\n",
    "%autoreload 2\n",
    "\n",
    "import os\n",
    "import random\n",
    "\n",
    "import numpy as np\n",
    "import plotly.graph_objects as pgo\n",
    "import scipy\n",
    "import lascar\n",
    "\n",
    "from securec.capture import capture"
   ]
  },
  {
   "cell_type": "markdown",
   "metadata": {},
   "source": [
    "## 2. Detecting data between noise"
   ]
  },
  {
   "cell_type": "code",
   "execution_count": null,
   "metadata": {},
   "outputs": [],
   "source": [
    "data = capture(\n",
    "    platform=\"cwlitexmega\",\n",
    "    number_of_traces=1000, \n",
    "    number_of_samples=100,\n",
    "    code=\"volatile uint8_t result = input[0];\",\n",
    "    inputfunction=lambda _: [0],\n",
    ")"
   ]
  },
  {
   "cell_type": "code",
   "execution_count": null,
   "metadata": {},
   "outputs": [],
   "source": [
    "fig = pgo.Figure()\n",
    "hist = np.histogram(data[\"trace\"][:, 16], bins=10, density=True)\n",
    "fig.add_trace(pgo.Bar(y=hist[0], x=hist[1]))\n",
    "fig.show()"
   ]
  },
  {
   "cell_type": "code",
   "execution_count": null,
   "metadata": {},
   "outputs": [],
   "source": [
    "data = capture(\n",
    "    platform=\"cwlitexmega\",\n",
    "    number_of_traces=300,\n",
    "    number_of_samples=100,\n",
    "    code=\"volatile uint8_t result = input[0];\",\n",
    "    inputfunction=lambda i: [(0x00, 0xF0, 0xFF)[i // 100]],\n",
    ")"
   ]
  },
  {
   "cell_type": "code",
   "execution_count": null,
   "metadata": {},
   "outputs": [],
   "source": [
    "fig = pgo.Figure()\n",
    "for i in range(3):\n",
    "    d = data[\"trace\"][100 * i : 100 * (i + 1), 16]\n",
    "    hist = np.histogram(d, bins=10, density=True)\n",
    "    mu, std = scipy.stats.norm.fit(d)\n",
    "    fig.add_trace(pgo.Bar(y=hist[0], x=hist[1]))\n",
    "\n",
    "for i in range(3):\n",
    "    d = data[\"trace\"][100 * i : 100 * (i + 1), 16]\n",
    "    mu, std = scipy.stats.norm.fit(d)\n",
    "    xs = np.linspace(mu - 2 * std, mu + 2 * std)\n",
    "    fig.add_trace(pgo.Scatter(x=xs, y=scipy.stats.norm.pdf(xs, mu, std)))\n",
    "fig.show()\n"
   ]
  },
  {
   "cell_type": "markdown",
   "metadata": {},
   "source": [
    "## 3. Develop an attack for AES SBox Lookup"
   ]
  },
  {
   "cell_type": "code",
   "execution_count": null,
   "metadata": {},
   "outputs": [],
   "source": [
    "data = capture(\n",
    "    platform=\"cwlitexmega\",\n",
    "    number_of_traces=5000, \n",
    "    number_of_samples=1000,\n",
    "    fromfile=os.path.abspath(\"sbox_lookup_input_key.c\"),\n",
    "    inputfunction=lambda _: [random.randint(0, 255) for _ in range(32)],\n",
    ")"
   ]
  },
  {
   "cell_type": "code",
   "execution_count": null,
   "metadata": {},
   "outputs": [],
   "source": [
    "def group_traces_by_hw(data, selection_function=lambda trace: lascar.hamming(lascar.tools.aes.sbox[trace[\"input\"][0] ^ trace[\"input\"][16]])):\n",
    "    groups = {i: [] for i in range(9)}\n",
    "    for i, trace in enumerate(data):\n",
    "        groups[selection_function(trace)].append(i)\n",
    "    return {hw: np.take(data, indices) for hw, indices in groups.items()}\n",
    "\n",
    "def multivariate_normal(data):\n",
    "    means = np.mean(data, axis=1)\n",
    "    covs = np.cov(data)\n",
    "    return scipy.stats.multivariate_normal(means, covs)"
   ]
  },
  {
   "cell_type": "code",
   "execution_count": null,
   "metadata": {},
   "outputs": [],
   "source": [
    "def generate_template(data, pois=[113, 145, 114]):\n",
    "    data_grouped = group_traces_by_hw(data)\n",
    "    return {\n",
    "        i: multivariate_normal(np.take(data_grouped[i][\"trace\"], pois, axis=1).T)\n",
    "        for i in range(9)\n",
    "    }"
   ]
  },
  {
   "cell_type": "code",
   "execution_count": null,
   "metadata": {},
   "outputs": [],
   "source": [
    "template = generate_template(data)"
   ]
  },
  {
   "cell_type": "code",
   "execution_count": null,
   "metadata": {},
   "outputs": [],
   "source": [
    "data_attack = capture(\n",
    "    platform=\"cwlitexmega\",\n",
    "    number_of_traces=50, \n",
    "    number_of_samples=1000,\n",
    "    fromfile=os.path.abspath(\"sbox_lookup_input_key.c\"),\n",
    "    inputfunction=lambda _: [random.randint(0, 255) for _ in range(16)] + 16 * [99],\n",
    ")"
   ]
  },
  {
   "cell_type": "code",
   "execution_count": null,
   "metadata": {},
   "outputs": [],
   "source": [
    "def template_attack_sbox_output(data_attack, template, pois=[113, 145, 114]):\n",
    "    probabilities = np.zeros(256)\n",
    "    for i, trace in enumerate(data_attack):\n",
    "        for guess in range(256):\n",
    "            intermediate = lascar.hamming(\n",
    "                lascar.tools.aes.sbox[trace[\"input\"][0] ^ guess]\n",
    "            )\n",
    "            trace_at_pois = np.take(trace[\"trace\"], pois)\n",
    "            probabilities[guess] += template[intermediate].logpdf(trace_at_pois)\n",
    "        print(i, np.argsort(probabilities)[-3:])\n",
    "\n",
    "\n",
    "template_attack_sbox_output(data_attack, template)\n"
   ]
  },
  {
   "attachments": {},
   "cell_type": "markdown",
   "metadata": {},
   "source": [
    "## 4. Find Points of Interest"
   ]
  },
  {
   "cell_type": "code",
   "execution_count": null,
   "metadata": {},
   "outputs": [],
   "source": [
    "import itertools\n",
    "\n",
    "def grouped_diffs(data_grouped):\n",
    "    means = {hw: np.nan_to_num(np.nanmean(data_grouped[hw][\"trace\"], axis=0)) for hw in range(9)}\n",
    "    return sum(\n",
    "        (meani - meanj) ** 2\n",
    "        for meani, meanj\n",
    "        in itertools.product(means.values(), repeat=2)\n",
    "    )\n",
    "\n",
    "diffs = grouped_diffs(group_traces_by_hw(data))\n",
    "pois = np.argsort(diffs)[-5:]\n",
    "\n",
    "fig = pgo.Figure()\n",
    "fig.add_trace(pgo.Scatter(y=diffs))\n",
    "fig.show()\n",
    "\n",
    "pois\n"
   ]
  },
  {
   "cell_type": "code",
   "execution_count": null,
   "metadata": {},
   "outputs": [],
   "source": [
    "template_attack_sbox_output(data_attack, generate_template(data, pois=pois), pois=pois)"
   ]
  },
  {
   "attachments": {},
   "cell_type": "markdown",
   "metadata": {},
   "source": [
    "## 5. Template attack using `sklearn.discriminant_analysis` and `lascar`"
   ]
  },
  {
   "cell_type": "code",
   "execution_count": null,
   "metadata": {},
   "outputs": [],
   "source": [
    "import sklearn\n",
    "import sklearn.discriminant_analysis"
   ]
  },
  {
   "cell_type": "code",
   "execution_count": null,
   "metadata": {},
   "outputs": [],
   "source": [
    "def generate_template_lascar(\n",
    "    data,\n",
    "    pois,\n",
    "    selection_function=lambda value: lascar.hamming(\n",
    "        lascar.tools.aes.sbox[value[\"input\"][0] ^ value[\"input\"][16]]\n",
    "    ),\n",
    "):\n",
    "    classifier_qda = sklearn.discriminant_analysis.QuadraticDiscriminantAnalysis(\n",
    "        store_covariance=True\n",
    "    )\n",
    "\n",
    "    classifier_profile_engine_qda = lascar.ProfileEngine(\n",
    "        \"profile qda\",\n",
    "        classifier=classifier_qda,\n",
    "        partition_function=selection_function,\n",
    "        partition_range=range(9),\n",
    "    )\n",
    "\n",
    "    trace = lascar.TraceBatchContainer(data[\"trace\"], data)\n",
    "    trace.leakage_section = pois\n",
    "    session = lascar.Session(\n",
    "        trace,\n",
    "        engine=classifier_profile_engine_qda,\n",
    "    ).run()\n",
    "    return classifier_qda"
   ]
  },
  {
   "cell_type": "code",
   "execution_count": null,
   "metadata": {},
   "outputs": [],
   "source": [
    "template_lascar = generate_template_lascar(data, pois=pois)"
   ]
  },
  {
   "cell_type": "code",
   "execution_count": null,
   "metadata": {},
   "outputs": [],
   "source": [
    "def template_attack_sbox_output_lascar(\n",
    "    data_attack,\n",
    "    template,\n",
    "    pois,\n",
    "    selection_function=lambda value, guess: lascar.hamming(\n",
    "        lascar.tools.aes.sbox[value[\"input\"][0] ^ guess]\n",
    "    ),\n",
    "):\n",
    "    classifier_match_engine_qda = lascar.MatchEngine(\n",
    "        \"match qda\",\n",
    "        classifier=template,\n",
    "        selection_function=selection_function,\n",
    "        guess_range=range(256),\n",
    "    )\n",
    "\n",
    "    trace = lascar.TraceBatchContainer(data_attack[\"trace\"], data_attack)\n",
    "    trace.leakage_section = pois\n",
    "    session = lascar.Session(\n",
    "        trace,\n",
    "        engine=classifier_match_engine_qda,\n",
    "        output_method=lascar.MultipleOutputMethod(\n",
    "            lascar.ScoreProgressionOutputMethod(classifier_match_engine_qda),\n",
    "            lascar.ConsoleOutputMethod(classifier_match_engine_qda),\n",
    "        ),\n",
    "        output_steps=range(0, 50, 1),\n",
    "    ).run(thread_on_update=False)\n"
   ]
  },
  {
   "cell_type": "code",
   "execution_count": null,
   "metadata": {},
   "outputs": [],
   "source": [
    "template_attack_sbox_output_lascar(data_attack, template_lascar, pois)"
   ]
  }
 ],
 "metadata": {
  "kernelspec": {
   "display_name": "Python 3.10.7 ('chipwhisperer-td5n7f84')",
   "language": "python",
   "name": "python3"
  },
  "language_info": {
   "codemirror_mode": {
    "name": "ipython",
    "version": 3
   },
   "file_extension": ".py",
   "mimetype": "text/x-python",
   "name": "python",
   "nbconvert_exporter": "python",
   "pygments_lexer": "ipython3",
   "version": "3.10.8"
  },
  "vscode": {
   "interpreter": {
    "hash": "36760b1de54f02795c2144c8e36ca6fc5439200debad8ef46d119beb88a8f8a2"
   }
  }
 },
 "nbformat": 4,
 "nbformat_minor": 2
}
