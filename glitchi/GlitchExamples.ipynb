{
 "cells": [
  {
   "cell_type": "markdown",
   "metadata": {},
   "source": [
    "# Glitch Examples"
   ]
  },
  {
   "cell_type": "code",
   "execution_count": 1,
   "metadata": {},
   "outputs": [
    {
     "name": "stderr",
     "output_type": "stream",
     "text": [
      "WARNING:ChipWhisperer Other:Old pip version: 20.1, unable to do CW version check\n"
     ]
    }
   ],
   "source": [
    "import sys\n",
    "sys.path.insert(0, '..')\n",
    "import securec\n",
    "from securec import util\n",
    "scope, target = util.init()"
   ]
  },
  {
   "cell_type": "code",
   "execution_count": 2,
   "metadata": {},
   "outputs": [],
   "source": [
    "import os\n",
    "if 'nt' in os.name:\n",
    "    os.environ['PATH'] = r'C:\\cw\\cw\\usr\\bin;C:\\cw\\cw\\home\\portable\\avrgcc\\avr-gcc-10.1.0-x64-windows\\bin;' + os.environ['PATH']"
   ]
  },
  {
   "cell_type": "code",
   "execution_count": 3,
   "metadata": {},
   "outputs": [
    {
     "name": "stdout",
     "output_type": "stream",
     "text": [
      "XMEGA Programming flash...\n",
      "XMEGA Reading flash...\n",
      "Verified flash OK, 2227 bytes\n",
      "\u001b[32m✓\u001b[0m\n"
     ]
    }
   ],
   "source": [
    "securec.util.compile_and_flash('./glitch_examples.c')"
   ]
  },
  {
   "cell_type": "code",
   "execution_count": 4,
   "metadata": {},
   "outputs": [],
   "source": [
    "scope.glitch.clk_src = 'clkgen'\n",
    "scope.glitch.trigger_src = 'ext_single'\n",
    "scope.glitch.repeat = 1\n",
    "scope.glitch.output = \"clock_xor\"\n",
    "scope.io.hs2 = \"glitch\""
   ]
  },
  {
   "cell_type": "code",
   "execution_count": 5,
   "metadata": {},
   "outputs": [],
   "source": [
    "import logging\n",
    "logging.getLogger('ChipWhisperer Target').setLevel(logging.CRITICAL)\n",
    "logging.getLogger('ChipWhisperer Scope').setLevel(logging.CRITICAL)"
   ]
  },
  {
   "cell_type": "code",
   "execution_count": 6,
   "metadata": {},
   "outputs": [],
   "source": [
    "import itertools\n",
    "from tqdm.notebook import tqdm\n",
    "import numpy as np\n",
    "\n",
    "def frange(start, end=None, inc=1):\n",
    "    if isinstance(start, np.ndarray):\n",
    "        return start\n",
    "    if end is None:\n",
    "        end = start\n",
    "    return np.arange(start, end + inc, inc)\n",
    "\n",
    "def glitchi(widths, offsets, ext_offsets, repeats, trials, write_params, read_params, success_criterion, print_reset=True, display_progress=True, challenge_success=100):\n",
    "    iteration = list(itertools.product(\n",
    "        frange(widths),\n",
    "        frange(offsets),\n",
    "        frange(ext_offsets),\n",
    "        frange(repeats),\n",
    "        frange(trials),\n",
    "    ))\n",
    "    if display_progress:\n",
    "        iteration = tqdm(iteration)\n",
    "\n",
    "    successes = []\n",
    "    util.reset_target()\n",
    "    for width, offset, ext_offset, repeat, _ in iteration:\n",
    "        data = (width, offset, ext_offset, repeat)\n",
    "\n",
    "        scope.glitch.width = width\n",
    "        scope.glitch.offset = offset\n",
    "        scope.glitch.ext_offset = ext_offset\n",
    "        scope.glitch.repeat = repeat\n",
    "\n",
    "        if scope.adc.state:\n",
    "            if print_reset:\n",
    "                print('reset ', *data)\n",
    "            util.reset_target()\n",
    "\n",
    "        scope.arm()\n",
    "        target.simpleserial_write(*write_params)\n",
    "\n",
    "        ret = scope.capture()\n",
    "        val = target.simpleserial_read_witherrors(*read_params, glitch_timeout=0.1)\n",
    "\n",
    "        if ret:\n",
    "            if print_reset:\n",
    "                print('reset ', *data)\n",
    "            util.reset_target()\n",
    "        else:\n",
    "            if val['valid'] is False:\n",
    "                if print_reset:\n",
    "                    print('reset ', *data)\n",
    "            else:\n",
    "                if val['payload'] and success_criterion(val['payload']):\n",
    "                    if challenge_success != None:\n",
    "                        challenged = glitchi(\n",
    "                            *data,\n",
    "                            trials=frange(1, challenge_success),\n",
    "                            write_params=write_params,\n",
    "                            read_params=read_params,\n",
    "                            success_criterion=lambda payload: payload == val['payload'],\n",
    "                            print_reset=False,\n",
    "                            display_progress=False,\n",
    "                            challenge_success=None,\n",
    "                        )\n",
    "                        print('success', val['payload'], *data, '->', len(challenged) / challenge_success * 100, '%')\n",
    "                        successes.append((*data, len(challenged) / challenge_success))\n",
    "                    else:\n",
    "                        successes.append(data)\n",
    "                else:\n",
    "                    pass\n",
    "    return successes\n"
   ]
  },
  {
   "cell_type": "markdown",
   "metadata": {},
   "source": [
    "## Find sweet spots\n",
    "\n",
    "All devices behave a bit different. In order to find some sweet spots a easy glitch example can be used with broad search parameters."
   ]
  },
  {
   "cell_type": "code",
   "execution_count": 7,
   "metadata": {
    "scrolled": false
   },
   "outputs": [
    {
     "data": {
      "application/vnd.jupyter.widget-view+json": {
       "model_id": "7e4a6fefb0e64af8afff87a16d7c1b29",
       "version_major": 2,
       "version_minor": 0
      },
      "text/plain": [
       "  0%|          | 0/1320 [00:00<?, ?it/s]"
      ]
     },
     "metadata": {},
     "output_type": "display_data"
    },
    {
     "name": "stdout",
     "output_type": "stream",
     "text": [
      "success CWbytearray(b'0e af') 42 -45 0 1 -> 10.0 %\n",
      "success CWbytearray(b'0c af') 42 -41 1 1 -> 1.0 %\n",
      "success CWbytearray(b'02 af') 44 -43 9 1 -> 9.0 %\n",
      "success CWbytearray(b'0e af') 46 -45 0 1 -> 7.000000000000001 %\n",
      "success CWbytearray(b'02 af') 46 -45 9 1 -> 8.0 %\n"
     ]
    },
    {
     "data": {
      "text/plain": [
       "[(42, -45, 0, 1, 0.1),\n",
       " (42, -41, 1, 1, 0.01),\n",
       " (44, -43, 9, 1, 0.09),\n",
       " (46, -45, 0, 1, 0.07),\n",
       " (46, -45, 9, 1, 0.08)]"
      ]
     },
     "execution_count": 7,
     "metadata": {},
     "output_type": "execute_result"
    }
   ],
   "source": [
    "glitchi(\n",
    "    widths=frange(40, 48, 2),\n",
    "    offsets=frange(-45, 0, 2),\n",
    "    ext_offsets=frange(0, 10),\n",
    "    repeats=frange(1, 1),\n",
    "    trials=frange(1, 1),\n",
    "    write_params=(0x01, b''),\n",
    "    read_params=(0x01, 2),\n",
    "    success_criterion=lambda payload: payload[0] != 0xf,\n",
    "    print_reset=False,\n",
    "    challenge_success=100,\n",
    ")"
   ]
  },
  {
   "cell_type": "markdown",
   "metadata": {},
   "source": [
    "## Example 1\n",
    "\n",
    "The first example addresses gives successive answers to the following questions:\n",
    "- Is it possible to skip instructions? (hopefully yes ;-))\n",
    "- It it possible to skip exactly one instruction?\n",
    "- It it possible to skip exactly two instructions?\n",
    "- How does typical \"skip-patterns\" look like?\n",
    "\n",
    "To give an answer the following code shall be tested:\n",
    "\n",
    "```c\n",
    "uint16_t cnt = 0xaf00;\n",
    "trigger_high();\n",
    "asm(\"nop\\n\"\n",
    "    \"nop\\n\"\n",
    "    \"nop\\n\"\n",
    "    \"nop\\n\"\n",
    "    \"nop\\n\"\n",
    "    \"ori %0, 0x01 \\n\"\n",
    "    \"ori %0, 0x02 \\n\"\n",
    "    \"ori %0, 0x04 \\n\"\n",
    "    \"ori %0, 0x08 \\n\"\n",
    "    \"nop\\n\"\n",
    "    \"nop\\n\"\n",
    "    \"nop\\n\"\n",
    "    \"nop\\n\"\n",
    "    \"nop\\n\"\n",
    "    : \"+w\"(cnt));\n",
    "trigger_low();\n",
    "simpleserial_put(0x01, 2, (uint8_t *)&cnt);\n",
    "```\n",
    "\n",
    "Obviously, if the result is different to `0xaf0f` an inserted glitch skipped some instruction(s)."
   ]
  },
  {
   "cell_type": "markdown",
   "metadata": {},
   "source": [
    "### Test 1\n",
    "\n",
    "Try to skip exactly one instruction."
   ]
  },
  {
   "cell_type": "code",
   "execution_count": 9,
   "metadata": {},
   "outputs": [
    {
     "data": {
      "application/vnd.jupyter.widget-view+json": {
       "model_id": "0bf74664f1f44ad8b5642b791c5735c0",
       "version_major": 2,
       "version_minor": 0
      },
      "text/plain": [
       "  0%|          | 0/11440 [00:00<?, ?it/s]"
      ]
     },
     "metadata": {},
     "output_type": "display_data"
    },
    {
     "name": "stdout",
     "output_type": "stream",
     "text": [
      "success CWbytearray(b'0e af') 40.0 -42.5 0 2 -> 10.5 %\n",
      "success CWbytearray(b'0d af') 40.0 -42.5 0 4 -> 2.0 %\n",
      "success CWbytearray(b'0b af') 40.0 -42.5 0 5 -> 5.0 %\n",
      "success CWbytearray(b'0d af') 40.0 -42.5 1 2 -> 7.000000000000001 %\n",
      "success CWbytearray(b'0d af') 40.0 -42.5 2 1 -> 3.0 %\n",
      "success CWbytearray(b'0b af') 40.0 -42.5 3 2 -> 4.0 %\n",
      "success CWbytearray(b'0e af') 40.5 -43.5 1 2 -> 2.5 %\n",
      "success CWbytearray(b'0b af') 40.5 -43.5 2 1 -> 6.5 %\n",
      "success CWbytearray(b'0d af') 40.5 -43.5 2 5 -> 1.5 %\n",
      "success CWbytearray(b'0e af') 41.5 -44.0 1 2 -> 2.5 %\n",
      "success CWbytearray(b'07 af') 41.5 -44.0 1 3 -> 4.5 %\n",
      "success CWbytearray(b'0b af') 41.5 -44.0 2 4 -> 8.0 %\n",
      "success CWbytearray(b'07 af') 41.5 -44.0 4 1 -> 5.0 %\n",
      "success CWbytearray(b'0b af') 41.5 -40.0 2 3 -> 4.5 %\n",
      "success CWbytearray(b'0b af') 41.5 -40.0 2 4 -> 6.5 %\n",
      "success CWbytearray(b'0e af') 42.0 -45.0 0 2 -> 9.5 %\n",
      "success CWbytearray(b'0d af') 42.0 -45.0 1 2 -> 5.0 %\n",
      "success CWbytearray(b'07 af') 42.0 -45.0 1 4 -> 6.0 %\n",
      "success CWbytearray(b'07 af') 42.0 -45.0 1 5 -> 1.5 %\n",
      "success CWbytearray(b'07 af') 42.0 -41.0 0 3 -> 1.0 %\n",
      "success CWbytearray(b'07 af') 42.0 -41.0 3 2 -> 2.5 %\n",
      "success CWbytearray(b'0e af') 42.0 -40.5 1 1 -> 2.0 %\n",
      "success CWbytearray(b'07 af') 42.0 -40.5 4 2 -> 1.5 %\n",
      "success CWbytearray(b'0d af') 42.5 -41.5 1 3 -> 2.5 %\n",
      "success CWbytearray(b'0b af') 42.5 -41.5 1 5 -> 4.0 %\n",
      "success CWbytearray(b'0b af') 42.5 -41.5 2 2 -> 6.5 %\n",
      "success CWbytearray(b'0b af') 42.5 -41.5 3 3 -> 2.0 %\n",
      "success CWbytearray(b'0b af') 42.5 -41.0 2 4 -> 3.5000000000000004 %\n",
      "success CWbytearray(b'0b af') 43.5 -42.0 2 1 -> 5.0 %\n",
      "success CWbytearray(b'0b af') 43.5 -42.0 2 3 -> 4.5 %\n",
      "success CWbytearray(b'0d af') 43.5 -42.0 2 4 -> 1.5 %\n",
      "success CWbytearray(b'07 af') 43.5 -42.0 3 3 -> 3.5000000000000004 %\n",
      "success CWbytearray(b'0d af') 44.0 -43.0 1 4 -> 4.5 %\n",
      "success CWbytearray(b'0b af') 44.0 -43.0 2 4 -> 5.5 %\n",
      "success CWbytearray(b'0e af') 44.0 -42.5 0 1 -> 6.5 %\n",
      "success CWbytearray(b'0b af') 44.0 -42.5 1 2 -> 3.5000000000000004 %\n",
      "success CWbytearray(b'0b af') 44.5 -43.5 1 5 -> 4.0 %\n",
      "success CWbytearray(b'0b af') 44.5 -43.5 3 1 -> 3.0 %\n",
      "success CWbytearray(b'0b af') 44.5 -43.0 0 2 -> 3.0 %\n",
      "success CWbytearray(b'0b af') 45.0 -43.5 2 3 -> 3.0 %\n",
      "success CWbytearray(b'07 af') 45.0 -43.5 3 3 -> 3.0 %\n",
      "success CWbytearray(b'0e af') 46.0 -45.0 1 2 -> 1.5 %\n",
      "success CWbytearray(b'0d af') 46.0 -45.0 1 5 -> 4.5 %\n",
      "success CWbytearray(b'0d af') 46.0 -44.5 1 4 -> 0.0 %\n",
      "success CWbytearray(b'0d af') 46.0 -44.5 1 5 -> 1.0 %\n"
     ]
    },
    {
     "data": {
      "text/plain": [
       "[(40.0, -42.5, 0, 2, 0.105),\n",
       " (40.0, -42.5, 0, 4, 0.02),\n",
       " (40.0, -42.5, 0, 5, 0.05),\n",
       " (40.0, -42.5, 1, 2, 0.07),\n",
       " (40.0, -42.5, 2, 1, 0.03),\n",
       " (40.0, -42.5, 3, 2, 0.04),\n",
       " (40.5, -43.5, 1, 2, 0.025),\n",
       " (40.5, -43.5, 2, 1, 0.065),\n",
       " (40.5, -43.5, 2, 5, 0.015),\n",
       " (41.5, -44.0, 1, 2, 0.025),\n",
       " (41.5, -44.0, 1, 3, 0.045),\n",
       " (41.5, -44.0, 2, 4, 0.08),\n",
       " (41.5, -44.0, 4, 1, 0.05),\n",
       " (41.5, -40.0, 2, 3, 0.045),\n",
       " (41.5, -40.0, 2, 4, 0.065),\n",
       " (42.0, -45.0, 0, 2, 0.095),\n",
       " (42.0, -45.0, 1, 2, 0.05),\n",
       " (42.0, -45.0, 1, 4, 0.06),\n",
       " (42.0, -45.0, 1, 5, 0.015),\n",
       " (42.0, -41.0, 0, 3, 0.01),\n",
       " (42.0, -41.0, 3, 2, 0.025),\n",
       " (42.0, -40.5, 1, 1, 0.02),\n",
       " (42.0, -40.5, 4, 2, 0.015),\n",
       " (42.5, -41.5, 1, 3, 0.025),\n",
       " (42.5, -41.5, 1, 5, 0.04),\n",
       " (42.5, -41.5, 2, 2, 0.065),\n",
       " (42.5, -41.5, 3, 3, 0.02),\n",
       " (42.5, -41.0, 2, 4, 0.035),\n",
       " (43.5, -42.0, 2, 1, 0.05),\n",
       " (43.5, -42.0, 2, 3, 0.045),\n",
       " (43.5, -42.0, 2, 4, 0.015),\n",
       " (43.5, -42.0, 3, 3, 0.035),\n",
       " (44.0, -43.0, 1, 4, 0.045),\n",
       " (44.0, -43.0, 2, 4, 0.055),\n",
       " (44.0, -42.5, 0, 1, 0.065),\n",
       " (44.0, -42.5, 1, 2, 0.035),\n",
       " (44.5, -43.5, 1, 5, 0.04),\n",
       " (44.5, -43.5, 3, 1, 0.03),\n",
       " (44.5, -43.0, 0, 2, 0.03),\n",
       " (45.0, -43.5, 2, 3, 0.03),\n",
       " (45.0, -43.5, 3, 3, 0.03),\n",
       " (46.0, -45.0, 1, 2, 0.015),\n",
       " (46.0, -45.0, 1, 5, 0.045),\n",
       " (46.0, -44.5, 1, 4, 0.0),\n",
       " (46.0, -44.5, 1, 5, 0.01)]"
      ]
     },
     "execution_count": 9,
     "metadata": {},
     "output_type": "execute_result"
    }
   ],
   "source": [
    "glitchi(\n",
    "    widths=frange(40, 46, 0.5),\n",
    "    offsets=frange(-45, -40, 0.5),\n",
    "    ext_offsets=frange(0, 15),\n",
    "    repeats=frange(1, 5),\n",
    "    trials=frange(1, 1),\n",
    "    write_params=(0x01, b''),\n",
    "    read_params=(0x01, 2),\n",
    "    success_criterion=lambda payload: payload[0] in (0x0e, 0x0d, 0x0b, 0x07),\n",
    "    print_reset=False,\n",
    "    challenge_success=200,\n",
    ")"
   ]
  },
  {
   "cell_type": "markdown",
   "metadata": {},
   "source": [
    "### Test 2\n",
    "\n",
    "Try to skip either the first 2 or the last 2 ORs."
   ]
  },
  {
   "cell_type": "code",
   "execution_count": 13,
   "metadata": {},
   "outputs": [
    {
     "data": {
      "application/vnd.jupyter.widget-view+json": {
       "model_id": "b46912733ff44aedb69b05612eb72261",
       "version_major": 2,
       "version_minor": 0
      },
      "text/plain": [
       "  0%|          | 0/3900 [00:00<?, ?it/s]"
      ]
     },
     "metadata": {},
     "output_type": "display_data"
    },
    {
     "name": "stdout",
     "output_type": "stream",
     "text": [
      "success CWbytearray(b'03 af') 40.0 -42.5 1 3 -> 0.5 %\n",
      "success CWbytearray(b'03 af') 40.5 -43.5 3 1 -> 1.5 %\n",
      "success CWbytearray(b'03 af') 41.5 -44.0 1 9 -> 1.5 %\n",
      "success CWbytearray(b'0c af') 45.0 -43.5 0 4 -> 0.5 %\n"
     ]
    },
    {
     "data": {
      "text/plain": [
       "[(40.0, -42.5, 1, 3, 0.005),\n",
       " (40.5, -43.5, 3, 1, 0.015),\n",
       " (41.5, -44.0, 1, 9, 0.015),\n",
       " (45.0, -43.5, 0, 4, 0.005)]"
      ]
     },
     "execution_count": 13,
     "metadata": {},
     "output_type": "execute_result"
    }
   ],
   "source": [
    "glitchi(\n",
    "    widths=frange(40, 46, 0.5),\n",
    "    offsets=frange(-44, -42, 0.5),\n",
    "    ext_offsets=frange(0, 5),\n",
    "    repeats=frange(1, 10),\n",
    "    trials=frange(1, 1),\n",
    "    write_params=(0x01, b''),\n",
    "    read_params=(0x01, 2),\n",
    "    success_criterion=lambda payload: payload[0] in (0x03, 0x0c),\n",
    "    print_reset=False,\n",
    "    challenge_success=200,\n",
    ")"
   ]
  },
  {
   "cell_type": "markdown",
   "metadata": {},
   "source": [
    "### Test 3\n",
    "\n",
    "Try to skip 3 consecutive instructions."
   ]
  },
  {
   "cell_type": "code",
   "execution_count": null,
   "metadata": {},
   "outputs": [],
   "source": [
    "glitchi(\n",
    "    widths=frange(40, 49, 0.5),\n",
    "    offsets=frange(-45, -40, 0.5),\n",
    "    ext_offsets=frange(0, 3),\n",
    "    repeats=frange(10, 20),\n",
    "    trials=frange(1, 1),\n",
    "    write_params=(0x01, b''),\n",
    "    read_params=(0x01, 2),\n",
    "    success_criterion=lambda payload: payload[0] in (0x01, 0x08),\n",
    "    print_reset=False,\n",
    "    challenge_success=200,\n",
    ")"
   ]
  },
  {
   "cell_type": "code",
   "execution_count": null,
   "metadata": {},
   "outputs": [],
   "source": [
    "f'{0x05:04b}'"
   ]
  },
  {
   "cell_type": "code",
   "execution_count": null,
   "metadata": {},
   "outputs": [],
   "source": [
    "hex(0x2+0x4+0x8)"
   ]
  },
  {
   "cell_type": "code",
   "execution_count": null,
   "metadata": {},
   "outputs": [],
   "source": []
  }
 ],
 "metadata": {
  "kernelspec": {
   "display_name": "Python 3 (ipykernel)",
   "language": "python",
   "name": "python3"
  },
  "language_info": {
   "codemirror_mode": {
    "name": "ipython",
    "version": 3
   },
   "file_extension": ".py",
   "mimetype": "text/x-python",
   "name": "python",
   "nbconvert_exporter": "python",
   "pygments_lexer": "ipython3",
   "version": "3.7.7"
  }
 },
 "nbformat": 4,
 "nbformat_minor": 2
}
