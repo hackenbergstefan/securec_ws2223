{
 "cells": [
  {
   "cell_type": "markdown",
   "metadata": {},
   "source": [
    "# Glitch Examples"
   ]
  },
  {
   "cell_type": "code",
   "execution_count": null,
   "metadata": {},
   "outputs": [],
   "source": [
    "import sys\n",
    "sys.path.insert(0, '..')\n",
    "import securec\n",
    "from securec import util\n",
    "scope, target = util.init()"
   ]
  },
  {
   "cell_type": "code",
   "execution_count": null,
   "metadata": {},
   "outputs": [],
   "source": [
    "import os\n",
    "if 'nt' in os.name:\n",
    "    os.environ['PATH'] = r'C:\\cw\\cw\\usr\\bin;C:\\cw\\cw\\home\\portable\\avrgcc\\avr-gcc-10.1.0-x64-windows\\bin;' + os.environ['PATH']"
   ]
  },
  {
   "cell_type": "code",
   "execution_count": null,
   "metadata": {},
   "outputs": [],
   "source": [
    "securec.util.compile_and_flash('./glitch_examples.c')"
   ]
  },
  {
   "cell_type": "code",
   "execution_count": null,
   "metadata": {},
   "outputs": [],
   "source": [
    "scope.glitch.clk_src = 'clkgen'\n",
    "scope.glitch.trigger_src = 'ext_single'\n",
    "scope.glitch.output = \"clock_xor\"\n",
    "scope.io.hs2 = \"glitch\""
   ]
  },
  {
   "cell_type": "code",
   "execution_count": null,
   "metadata": {},
   "outputs": [],
   "source": [
    "import logging\n",
    "logging.getLogger('ChipWhisperer Target').setLevel(logging.CRITICAL)\n",
    "logging.getLogger('ChipWhisperer Scope').setLevel(logging.CRITICAL)"
   ]
  },
  {
   "cell_type": "code",
   "execution_count": null,
   "metadata": {},
   "outputs": [],
   "source": [
    "import itertools\n",
    "from tqdm.notebook import tqdm\n",
    "import numpy as np\n",
    "\n",
    "def frange(start, end=None, inc=1):\n",
    "    if isinstance(start, np.ndarray):\n",
    "        return start\n",
    "    if end is None:\n",
    "        end = start\n",
    "    return np.arange(start, end + inc, inc)\n",
    "\n",
    "def glitchi(widths, offsets, ext_offsets, repeats, trials, write_params, read_params, success_criterion, print_reset=True, display_progress=True, challenge_success=100):\n",
    "    iteration = list(itertools.product(\n",
    "        frange(widths),\n",
    "        frange(offsets),\n",
    "        frange(ext_offsets),\n",
    "        frange(repeats),\n",
    "        frange(trials),\n",
    "    ))\n",
    "    if display_progress:\n",
    "        iteration = tqdm(iteration)\n",
    "\n",
    "    scope.adc.timeout = 0.1\n",
    "    successes = []\n",
    "    util.reset_target()\n",
    "    for width, offset, ext_offset, repeat, _ in iteration:\n",
    "        data = (width, offset, ext_offset, repeat)\n",
    "\n",
    "        scope.glitch.width = width\n",
    "        scope.glitch.offset = offset\n",
    "        scope.glitch.ext_offset = ext_offset\n",
    "        scope.glitch.repeat = repeat\n",
    "\n",
    "        if scope.adc.state:\n",
    "            if print_reset:\n",
    "                print('reset ', *data)\n",
    "            util.reset_target()\n",
    "\n",
    "        scope.arm()\n",
    "        target.simpleserial_write(*write_params)\n",
    "\n",
    "        ret = scope.capture()\n",
    "        val = target.simpleserial_read_witherrors(*read_params, glitch_timeout=0.1, timeout=0.1)\n",
    "\n",
    "        if ret:\n",
    "            if print_reset:\n",
    "                print('reset ', *data)\n",
    "            util.reset_target()\n",
    "        else:\n",
    "            if val['valid'] is False:\n",
    "                if print_reset:\n",
    "                    print('reset ', *data)\n",
    "            else:\n",
    "                if val['payload'] and success_criterion(val['payload']):\n",
    "                    if challenge_success != None:\n",
    "                        challenged = glitchi(\n",
    "                            *data,\n",
    "                            trials=frange(1, challenge_success),\n",
    "                            write_params=write_params,\n",
    "                            read_params=read_params,\n",
    "                            success_criterion=lambda payload: payload == val['payload'],\n",
    "                            print_reset=False,\n",
    "                            display_progress=False,\n",
    "                            challenge_success=None,\n",
    "                        )\n",
    "                        print('success', val['payload'], *data, '->', len(challenged) / challenge_success * 100, '%')\n",
    "                        successes.append((*data, len(challenged) / challenge_success))\n",
    "                    else:\n",
    "                        successes.append(data)\n",
    "                else:\n",
    "                    pass\n",
    "    return successes\n"
   ]
  },
  {
   "cell_type": "markdown",
   "metadata": {},
   "source": [
    "## Find sweet spots\n",
    "\n",
    "All devices behave a bit different. In order to find some sweet spots a easy glitch example can be used with broad search parameters."
   ]
  },
  {
   "cell_type": "code",
   "execution_count": null,
   "metadata": {
    "scrolled": false
   },
   "outputs": [],
   "source": [
    "glitchi(\n",
    "    widths=frange(1, 48, 2),\n",
    "    offsets=frange(-45, -2, 2),\n",
    "    ext_offsets=frange(0, 10),\n",
    "    repeats=frange(1, 1),\n",
    "    trials=frange(1, 1),\n",
    "    write_params=(0x01, b''),\n",
    "    read_params=(0x01, 2),\n",
    "    success_criterion=lambda payload: payload[0] != 0xf,\n",
    "    print_reset=False,\n",
    "    challenge_success=100,\n",
    ")"
   ]
  },
  {
   "cell_type": "markdown",
   "metadata": {},
   "source": [
    "## Example 1\n",
    "\n",
    "The first example addresses gives successive answers to the following questions:\n",
    "- Is it possible to skip instructions? (hopefully yes ;-))\n",
    "- It it possible to skip exactly one instruction?\n",
    "- It it possible to skip exactly two instructions?\n",
    "- How does typical \"skip-patterns\" look like?\n",
    "\n",
    "To give an answer the following code shall be tested:\n",
    "\n",
    "```c\n",
    "uint16_t cnt = 0xaf00;\n",
    "trigger_high();\n",
    "asm(\"nop\\n\"\n",
    "    \"nop\\n\"\n",
    "    \"nop\\n\"\n",
    "    \"nop\\n\"\n",
    "    \"nop\\n\"\n",
    "    \"ori %0, 0x01 \\n\"\n",
    "    \"ori %0, 0x02 \\n\"\n",
    "    \"ori %0, 0x04 \\n\"\n",
    "    \"ori %0, 0x08 \\n\"\n",
    "    \"nop\\n\"\n",
    "    \"nop\\n\"\n",
    "    \"nop\\n\"\n",
    "    \"nop\\n\"\n",
    "    \"nop\\n\"\n",
    "    : \"+w\"(cnt));\n",
    "trigger_low();\n",
    "simpleserial_put(0x01, 2, (uint8_t *)&cnt);\n",
    "```\n",
    "\n",
    "Obviously, if the result is different to `0xaf0f` an inserted glitch skipped some instruction(s)."
   ]
  },
  {
   "cell_type": "markdown",
   "metadata": {},
   "source": [
    "### Test 1\n",
    "\n",
    "Try to skip exactly one instruction."
   ]
  },
  {
   "cell_type": "code",
   "execution_count": null,
   "metadata": {},
   "outputs": [],
   "source": [
    "glitchi(\n",
    "    widths=frange(3),\n",
    "    offsets=frange(-9),\n",
    "    ext_offsets=frange(0, 5),\n",
    "    repeats=frange(1),\n",
    "    trials=frange(1),\n",
    "    write_params=(0x01, b''),\n",
    "    read_params=(0x01, 2),\n",
    "    success_criterion=lambda payload: payload[0] in (0x0e, 0x0d, 0x0b, 0x07),\n",
    "    print_reset=False,\n",
    "    challenge_success=200,\n",
    ")"
   ]
  },
  {
   "cell_type": "markdown",
   "metadata": {},
   "source": [
    "### Test 2\n",
    "\n",
    "Try to skip either the first 2 or the last 2 ORs."
   ]
  },
  {
   "cell_type": "code",
   "execution_count": null,
   "metadata": {},
   "outputs": [],
   "source": [
    "glitchi(\n",
    "    widths=frange(1, 48),\n",
    "    offsets=frange(-40, -1),\n",
    "    ext_offsets=frange(0, 0),\n",
    "    repeats=frange(5, 10),\n",
    "    trials=frange(1, 1),\n",
    "    write_params=(0x01, b''),\n",
    "    read_params=(0x01, 2),\n",
    "    success_criterion=lambda payload: payload[0] in (0x03, 0x0c),\n",
    "    print_reset=False,\n",
    "    challenge_success=200,\n",
    ")"
   ]
  },
  {
   "cell_type": "markdown",
   "metadata": {},
   "source": [
    "### Test 3\n",
    "\n",
    "Try to skip 3 consecutive instructions."
   ]
  },
  {
   "cell_type": "code",
   "execution_count": null,
   "metadata": {},
   "outputs": [],
   "source": [
    "glitchi(\n",
    "    widths=frange(1, 10, 1),\n",
    "    offsets=frange(-30, -1, 1),\n",
    "    ext_offsets=frange(0, 10),\n",
    "    repeats=frange(10, 20),\n",
    "    trials=frange(1, 1),\n",
    "    write_params=(0x01, b''),\n",
    "    read_params=(0x01, 2),\n",
    "    success_criterion=lambda payload: payload[0] in (0x01, 0x08),\n",
    "    # success_criterion=lambda payload: payload[0] != 0xf,\n",
    "    print_reset=False,\n",
    "    challenge_success=200,\n",
    ")"
   ]
  },
  {
   "cell_type": "code",
   "execution_count": null,
   "metadata": {},
   "outputs": [],
   "source": [
    "glitchi(\n",
    "    widths=frange(3, 4),\n",
    "    offsets=frange(-2, -1),\n",
    "    ext_offsets=frange(2, 3),\n",
    "    repeats=frange(16, 17),\n",
    "    trials=frange(1, 15),\n",
    "    write_params=(0x01, b''),\n",
    "    read_params=(0x01, 2),\n",
    "    success_criterion=lambda payload: payload[0] == 0x01,\n",
    "    print_reset=False,\n",
    "    challenge_success=200,\n",
    ")\n"
   ]
  },
  {
   "cell_type": "code",
   "execution_count": null,
   "metadata": {},
   "outputs": [],
   "source": [
    "glitchi(\n",
    "    widths=frange(3, 3),\n",
    "    offsets=frange(-6),\n",
    "    ext_offsets=frange(1, 3),\n",
    "    repeats=frange(10, 12),\n",
    "    trials=frange(1, 1),\n",
    "    write_params=(0x01, b''),\n",
    "    read_params=(0x01, 2),\n",
    "    success_criterion=lambda payload: payload[0] == 0x08,\n",
    "    # success_criterion=lambda payload: payload[0] != 0xf,\n",
    "    print_reset=False,\n",
    "    challenge_success=200,\n",
    ")\n"
   ]
  },
  {
   "cell_type": "markdown",
   "metadata": {},
   "source": [
    "### Test 4\n",
    "\n",
    "Try to skip 4 consecutive instructions."
   ]
  },
  {
   "cell_type": "code",
   "execution_count": null,
   "metadata": {},
   "outputs": [],
   "source": [
    "glitchi(\n",
    "    widths=frange(3),\n",
    "    offsets=frange(-6),\n",
    "    ext_offsets=frange(0),\n",
    "    repeats=frange(10),\n",
    "    trials=frange(1),\n",
    "    write_params=(0x01, b''),\n",
    "    read_params=(0x01, 2),\n",
    "    success_criterion=lambda payload: payload[0] == 0 and payload[1] == 0xaf,\n",
    "    print_reset=False,\n",
    "    challenge_success=200,\n",
    ")"
   ]
  },
  {
   "cell_type": "markdown",
   "metadata": {},
   "source": [
    "## Example 2\n",
    "\n",
    "This example tries to execute a single instruction _twice_. The following code is executed:\n",
    "\n",
    "```asm\n",
    "uint8_t example2(uint8_t cmd, uint8_t scmd, uint8_t len, uint8_t *in) {\n",
    " 270:\tf9 01       \tmovw\tr30, r18\n",
    "  uint16_t cnt = 0xaf00;\n",
    "  *(volatile uint16_t *)in = cnt;\n",
    " 272:\t80 e0       \tldi\tr24, 0x00\t; 0\n",
    " 274:\t9f ea       \tldi\tr25, 0xAF\t; 175\n",
    " 276:\t80 83       \tst\tZ, r24\n",
    " 278:\t91 83       \tstd\tZ+1, r25\t; 0x01\n",
    "  trigger_high();\n",
    " 27a:\ta0 e0       \tldi\tr26, 0x00\t; 0\n",
    " 27c:\tb6 e0       \tldi\tr27, 0x06\t; 6\n",
    " 27e:\t21 e0       \tldi\tr18, 0x01\t; 1\n",
    " 280:\t15 96       \tadiw\tr26, 0x05\t; 5\n",
    " 282:\t2c 93       \tst\tX, r18\n",
    " 284:\t15 97       \tsbiw\tr26, 0x05\t; 5\n",
    "  asm(\"nop\\n\"\n",
    " 286:\t00 00       \tnop\n",
    " 288:\t00 00       \tnop\n",
    " 28a:\t00 00       \tnop\n",
    " 28c:\t00 00       \tnop\n",
    " 28e:\t00 00       \tnop\n",
    " 290:\t03 96       \tadiw\tr24, 0x03\t; 3\n",
    " 292:\t00 00       \tnop\n",
    " 294:\t00 00       \tnop\n",
    " 296:\t00 00       \tnop\n",
    " 298:\t00 00       \tnop\n",
    " 29a:\t00 00       \tnop\n",
    " 29c:\t00 00       \tnop\n",
    " 29e:\t00 00       \tnop\n",
    " 2a0:\t00 00       \tnop\n",
    " 2a2:\t00 00       \tnop\n",
    " 2a4:\t00 00       \tnop\n",
    " 2a6:\t00 00       \tnop\n",
    " 2a8:\t00 00       \tnop\n",
    " 2aa:\t00 00       \tnop\n",
    " 2ac:\t00 00       \tnop\n",
    " 2ae:\t00 00       \tnop\n",
    "      \"nop\\n\"\n",
    "      \"nop\\n\"\n",
    "      \"nop\\n\"\n",
    "      \"nop\\n\"\n",
    "      : \"+w\"(cnt));\n",
    "  trigger_low();\n",
    " 2b0:\t16 96       \tadiw\tr26, 0x06\t; 6\n",
    " 2b2:\t2c 93       \tst\tX, r18\n",
    "  *(uint16_t *)in = cnt;\n",
    " 2b4:\t80 83       \tst\tZ, r24\n",
    " 2b6:\t91 83       \tstd\tZ+1, r25\t; 0x01\n",
    "  simpleserial_put(0x01, 2, in);\n",
    " 2b8:\taf 01       \tmovw\tr20, r30\n",
    " 2ba:\t62 e0       \tldi\tr22, 0x02\t; 2\n",
    " 2bc:\t81 e0       \tldi\tr24, 0x01\t; 1\n",
    " 2be:\t0e 94 1a 02 \tcall\t0x434\t; 0x434 <simpleserial_put>\n",
    "  return 0;\n",
    "}\n",
    " 2c2:\t80 e0       \tldi\tr24, 0x00\t; 0\n",
    " 2c4:\t08 95       \tret\n",
    "```\n",
    "\n",
    "We target the addition `adiw r24, 0x03`. If it is executed once the expected result sent back is `03 af`. A second execution of the same instruction results in `06 af`."
   ]
  },
  {
   "cell_type": "code",
   "execution_count": null,
   "metadata": {},
   "outputs": [],
   "source": [
    "glitchi(\n",
    "    widths=frange(2, 40, 2),\n",
    "    offsets=frange(-45, 2, 2),\n",
    "    ext_offsets=frange(0, 1),\n",
    "    repeats=frange(1, 30),\n",
    "    trials=frange(1),\n",
    "    write_params=(0x02, b''),\n",
    "    read_params=(0x01, 2),\n",
    "    success_criterion=lambda payload: payload[0] > 3 and payload[1] == 0xaf,\n",
    "    print_reset=False,\n",
    "    challenge_success=200,\n",
    ")"
   ]
  },
  {
   "cell_type": "markdown",
   "metadata": {},
   "source": [
    "### Result\n",
    "It was shown that the following parameters allow to execute a single instruction twice:\n",
    "\n",
    "- `success CWbytearray(b'06 af') 28 -31 0 8 -> 13.5 %`\n",
    "- `success CWbytearray(b'06 af') 30 -33 0 13 -> 11.5 %`\n",
    "\n",
    "Unclear results:\n",
    "- `success CWbytearray(b'05 af') 8 1 0 12 -> 55.50000000000001 %`\n",
    "- `success CWbytearray(b'05 af') 8 1 1 10 -> 44.5 %`\n",
    "- `success CWbytearray(b'3f af') 2 -5 0 6 -> 11.0 %`\n",
    "- `success CWbytearray(b'3f af') 2 -5 0 9 -> 12.0 %`\n",
    "- `success CWbytearray(b'af af') 10 -7 0 18 -> 14.499999999999998 %`\n",
    "- `success CWbytearray(b'af af') 10 -7 1 15 -> 11.5 %`"
   ]
  },
  {
   "cell_type": "code",
   "execution_count": null,
   "metadata": {},
   "outputs": [],
   "source": [
    "target.baud"
   ]
  },
  {
   "cell_type": "code",
   "execution_count": null,
   "metadata": {},
   "outputs": [],
   "source": []
  }
 ],
 "metadata": {
  "kernelspec": {
   "display_name": "Python 3 (ipykernel)",
   "language": "python",
   "name": "python3"
  },
  "language_info": {
   "codemirror_mode": {
    "name": "ipython",
    "version": 3
   },
   "file_extension": ".py",
   "mimetype": "text/x-python",
   "name": "python",
   "nbconvert_exporter": "python",
   "pygments_lexer": "ipython3",
   "version": "3.7.7"
  }
 },
 "nbformat": 4,
 "nbformat_minor": 2
}
