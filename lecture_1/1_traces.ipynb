{
 "cells": [
  {
   "cell_type": "markdown",
   "metadata": {},
   "source": [
    "# Get familiar with traces\n",
    "\n",
    "#### Learning goals:\n",
    "- Get familiar with the tracing format\n",
    "- Learn how to write code and record traces\n",
    "- Learn how to draw traces\n",
    "- Learn how to access input data in the code"
   ]
  },
  {
   "cell_type": "code",
   "execution_count": null,
   "metadata": {},
   "outputs": [],
   "source": [
    "%load_ext autoreload\n",
    "%autoreload 2\n",
    "\n",
    "from securec.capture.cw.cw_capture_generic import capture"
   ]
  },
  {
   "cell_type": "markdown",
   "metadata": {},
   "source": [
    "## 1. The trace format"
   ]
  },
  {
   "cell_type": "code",
   "execution_count": null,
   "metadata": {},
   "outputs": [],
   "source": [
    "data = capture(\n",
    "    platform=\"cwlitexmega\",\n",
    "    number_of_traces=1,\n",
    "    number_of_samples=100,\n",
    "    code='asm(\"nop\");',\n",
    "    inputfunction=lambda: [],\n",
    ")"
   ]
  },
  {
   "cell_type": "markdown",
   "metadata": {},
   "source": [
    "<div style=\"border: 3px solid plum; border-radius: 5px; padding: 5px; width: calc(100% - 20px);\">\n",
    "<div class=\"h2\" style=\"font-variant: all-small-caps;\">Exercise 1</div>\n",
    "\n",
    "1. Which datatype is `data`? Which is `data[0]` Which is `data[\"trace\"]`?\n",
    "2. Calculate the maximum value of the whole trace. Calculate its absolute maximum value. Calculate the absolute maximum value of the first 50 trace points.\n",
    "\n",
    "Hints:\n",
    "- https://numpy.org/doc/stable/user/absolute_beginners.html#basic-array-operations\n",
    "- https://numpy.org/doc/stable/user/absolute_beginners.html#indexing-and-slicing\n",
    "</div>"
   ]
  },
  {
   "cell_type": "markdown",
   "metadata": {},
   "source": [
    "<div style=\"border: 3px solid plum; border-radius: 5px; padding: 5px; width: calc(100% - 20px);\">\n",
    "<div class=\"h2\" style=\"font-variant: all-small-caps;\">Exercise 2</div>\n",
    "\n",
    "1. Record 10 traces with the same C-code as above.\n",
    "2. Create a plot displaying the 1st trace.\n",
    "3. Create a plot which stacks the 1st and 2nd trace on top of each other. Create a single plot and shift the y-axis.\n",
    "</div>\n"
   ]
  },
  {
   "cell_type": "markdown",
   "metadata": {},
   "source": [
    "## 2. Different code and inputs"
   ]
  },
  {
   "cell_type": "markdown",
   "metadata": {},
   "source": [
    "<div style=\"border: 3px solid plum; border-radius: 5px; padding: 5px; width: calc(100% - 20px);\">\n",
    "<div class=\"h2\" style=\"font-variant: all-small-caps;\">Exercise 3</div>\n",
    "\n",
    "1. Record a trace which sums the first 10 natural numbers.\n",
    "2. Record a trace which sums the first 20 natural numbers.\n",
    "3. Check by visual inspection that the traces differ.\n",
    "\n",
    "</div>\n"
   ]
  },
  {
   "cell_type": "markdown",
   "metadata": {},
   "source": [
    "<div style=\"border: 3px solid plum; border-radius: 5px; padding: 5px; width: calc(100% - 20px);\">\n",
    "<div class=\"h2\" style=\"font-variant: all-small-caps;\">Exercise 4</div>\n",
    "\n",
    "1. Record a trace which sums the first $n$ natural numbers. $n$ shall be given from outside.\n",
    "2. Compare different recordings.\n",
    "\n",
    "Hints: \n",
    "- `inputfunction` is a function which is called once for each recorded trace. It returns a list of numbers which is converted into a byte array. This can be used in the C-code accessing `input` which has the type `uint8_t *`.\n",
    "- The template for the C program can be found here: [./securec/capture/cw/generic_simpleserial.j2](../securec/capture/cw/generic_simpleserial.j2)\n",
    "- The actual C program which is created during the call to `capture` can be found here: [./securec/capture/cw/_generic_simpleserial.c](../securec/capture/cw/_generic_simpleserial.c)\n",
    "\n",
    "</div>"
   ]
  },
  {
   "cell_type": "markdown",
   "metadata": {},
   "source": [
    "<div style=\"border: 3px solid plum; border-radius: 5px; padding: 5px; width: calc(100% - 20px);\">\n",
    "<div class=\"h2\" style=\"font-variant: all-small-caps;\">Exercise 5</div>\n",
    "\n",
    "1. Use _one_ call to `capture` to record 10 traces with random $1 \\leq n \\leq 10$.\n",
    "2. Plot all recorded traces on top of each other.\n",
    "3. Plot all recorded traces on top of each other, sorted by $n$ ascending.\n",
    "\n",
    "Hints:\n",
    "- Use `random.randint(a, b)` to generate the random numbers. More info on random can be found here: [https://docs.python.org/3/library/random.html](https://docs.python.org/3/library/random.html)\n",
    "- `numpy.argsort` might help.\n",
    "\n",
    "</div>\n"
   ]
  }
 ],
 "metadata": {
  "kernelspec": {
   "display_name": "Python 3.10.6 ('.env')",
   "language": "python",
   "name": "python3"
  },
  "language_info": {
   "codemirror_mode": {
    "name": "ipython",
    "version": 3
   },
   "file_extension": ".py",
   "mimetype": "text/x-python",
   "name": "python",
   "nbconvert_exporter": "python",
   "pygments_lexer": "ipython3",
   "version": "3.10.7"
  },
  "vscode": {
   "interpreter": {
    "hash": "750668a056c86b6c0dcc938e825c9fa1ebd7e279387822b9cb0c65763d515e7b"
   }
  }
 },
 "nbformat": 4,
 "nbformat_minor": 2
}
