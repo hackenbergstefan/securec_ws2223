{
 "cells": [
  {
   "cell_type": "markdown",
   "metadata": {},
   "source": [
    "# Countermeasures for side-channel analysis\n",
    "\n",
    "\n",
    "#### Learning goals\n",
    "- Learn how to avoid side-channel leakage\n",
    "- Learn about _Hiding_ and _Masking_\n",
    "\n",
    "#### References\n",
    "- E. Oswald S. Mangard and T. Popp, Power analysis attacks — revealing the secrets\n",
    "of smartcards, Springer-Verlag, 2007"
   ]
  },
  {
   "cell_type": "code",
   "execution_count": null,
   "metadata": {},
   "outputs": [],
   "source": [
    "%load_ext autoreload\n",
    "%autoreload 2\n",
    "\n",
    "import os\n",
    "import random\n",
    "\n",
    "import lascar\n",
    "import numpy as np\n",
    "import plotly.graph_objects as pgo\n",
    "\n",
    "from securec.capture import capture"
   ]
  },
  {
   "cell_type": "markdown",
   "metadata": {},
   "source": [
    "## 1. Hiding"
   ]
  },
  {
   "cell_type": "markdown",
   "metadata": {},
   "source": [
    "<div style=\"border: 3px solid plum; border-radius: 5px; padding: 5px; width: calc(100% - 20px);\">\n",
    "<div class=\"h2\" style=\"font-variant: all-small-caps;\">Exercise 1</div>\n",
    "\n",
    "Randomize the order of the SBox lookups.\n",
    "\n",
    "Check the effectiveness using CPA and evolution plots.\n",
    "\n",
    "</div>"
   ]
  },
  {
   "cell_type": "markdown",
   "metadata": {},
   "source": [
    "<div style=\"border: 3px solid plum; border-radius: 5px; padding: 5px; width: calc(100% - 20px);\">\n",
    "<div class=\"h2\" style=\"font-variant: all-small-caps;\">Exercise 2</div>\n",
    "\n",
    "Add a timing jitter before each lookup.\n",
    "\n",
    "Check the effectiveness using CPA and evolution plots.\n",
    "\n",
    "</div>"
   ]
  },
  {
   "cell_type": "markdown",
   "metadata": {},
   "source": [
    "## 2. Masking"
   ]
  },
  {
   "cell_type": "markdown",
   "metadata": {},
   "source": [
    "### Masking the SBox output\n",
    "\n",
    "Given a mask $m_o$ then a _SBox with output mask_ is a modified AES-SBOX $\\mathrm{SBOX'}$ with the property:\n",
    "\n",
    "$$ \\mathrm{SBOX'}(\\mathrm{pt}_i \\oplus k_i) = \\mathrm{SBOX}(\\mathrm{pt}_i \\oplus k_i) \\oplus m_o $$\n",
    "\n",
    "Where $k_i$ is the $i$-th key byte and $\\mathrm{pt}_i$ the $i$-th input byte.\n"
   ]
  },
  {
   "cell_type": "markdown",
   "metadata": {},
   "source": [
    "<div style=\"border: 3px solid plum; border-radius: 5px; padding: 5px; width: calc(100% - 20px);\">\n",
    "<div class=\"h2\" style=\"font-variant: all-small-caps;\">Exercise 3</div>\n",
    "\n",
    "Implement a SBox lookup using a SBox with output mask.\n",
    "\n",
    "Check the effectiveness using CPA and evolution plots.\n",
    "\n",
    "</div>"
   ]
  },
  {
   "cell_type": "markdown",
   "metadata": {},
   "source": [
    "<div style=\"border: 3px solid plum; border-radius: 5px; padding: 5px; width: calc(100% - 20px);\">\n",
    "<div class=\"h2\" style=\"font-variant: all-small-caps;\">Exercise 4 (optional)</div>\n",
    "\n",
    "Attack the SBox with output mask with CPA but using the SBox _input_ as selection function.\n",
    "\n",
    "</div>"
   ]
  }
 ],
 "metadata": {
  "kernelspec": {
   "display_name": "Python 3.10.8 ('chipwhisperer-td5n7f84')",
   "language": "python",
   "name": "python3"
  },
  "language_info": {
   "name": "python",
   "version": "3.10.8"
  },
  "vscode": {
   "interpreter": {
    "hash": "36760b1de54f02795c2144c8e36ca6fc5439200debad8ef46d119beb88a8f8a2"
   }
  }
 },
 "nbformat": 4,
 "nbformat_minor": 2
}
